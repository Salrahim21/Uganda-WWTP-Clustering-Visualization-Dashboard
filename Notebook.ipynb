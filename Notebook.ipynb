{
 "cells": [
  {
   "cell_type": "code",
   "execution_count": 1,
   "id": "fffce275",
   "metadata": {},
   "outputs": [],
   "source": [
    "import pandas as pd \n",
    "import matplotlib.pyplot as plt\n",
    "import seaborn as sns"
   ]
  },
  {
   "cell_type": "code",
   "execution_count": 2,
   "id": "af741588",
   "metadata": {},
   "outputs": [],
   "source": [
    "wwtp=pd.read_csv('Data/wwtp_input_data_uganda_new.csv')"
   ]
  },
  {
   "cell_type": "code",
   "execution_count": 3,
   "id": "50511543",
   "metadata": {},
   "outputs": [],
   "source": [
    "def explore_dataframe(df, name=\"DataFrame\"): #user defined function to get the shape,info and description of the dataset\n",
    "    print(f\"\\n===== {name} Overview =====\")\n",
    "    \n",
    "    print(\"\\nShape:\")\n",
    "    print(df.shape)\n",
    "    \n",
    "    print(\"\\nInfo:\")\n",
    "    print(\"-\" * 40)\n",
    "    df.info()\n",
    "    \n",
    "    print(\"\\nDescription:\")\n",
    "    print(\"-\" * 40)\n",
    "    print(df.describe(include='all'))"
   ]
  },
  {
   "cell_type": "code",
   "execution_count": 4,
   "id": "17511a95",
   "metadata": {},
   "outputs": [
    {
     "name": "stdout",
     "output_type": "stream",
     "text": [
      "\n",
      "===== Wastewater Overview =====\n",
      "\n",
      "Shape:\n",
      "(25, 8)\n",
      "\n",
      "Info:\n",
      "----------------------------------------\n",
      "<class 'pandas.core.frame.DataFrame'>\n",
      "RangeIndex: 25 entries, 0 to 24\n",
      "Data columns (total 8 columns):\n",
      " #   Column                  Non-Null Count  Dtype  \n",
      "---  ------                  --------------  -----  \n",
      " 0   Lon                     25 non-null     float64\n",
      " 1   Lat                     25 non-null     float64\n",
      " 2   Subregion               25 non-null     object \n",
      " 3   treatment_type          25 non-null     object \n",
      " 4   treatment_fraction      0 non-null      float64\n",
      " 5   Capacity                25 non-null     float64\n",
      " 6   removalfraction_sewer   0 non-null      float64\n",
      " 7   removalfraction_onsite  0 non-null      float64\n",
      "dtypes: float64(6), object(2)\n",
      "memory usage: 1.7+ KB\n",
      "\n",
      "Description:\n",
      "----------------------------------------\n",
      "              Lon        Lat Subregion treatment_type  treatment_fraction  \\\n",
      "count   25.000000  25.000000        25             25                 0.0   \n",
      "unique        NaN        NaN         4              5                 NaN   \n",
      "top           NaN        NaN     Jinja        primary                 NaN   \n",
      "freq          NaN        NaN         8              6                 NaN   \n",
      "mean    32.099435   0.398586       NaN            NaN                 NaN   \n",
      "std      1.378170   1.047485       NaN            NaN                 NaN   \n",
      "min     29.690258  -1.277358       NaN            NaN                 NaN   \n",
      "25%     30.674568  -0.346633       NaN            NaN                 NaN   \n",
      "50%     32.309155   0.346546       NaN            NaN                 NaN   \n",
      "75%     33.219319   1.073843       NaN            NaN                 NaN   \n",
      "max     34.182704   2.778279       NaN            NaN                 NaN   \n",
      "\n",
      "            Capacity  removalfraction_sewer  removalfraction_onsite  \n",
      "count      25.000000                    0.0                     0.0  \n",
      "unique           NaN                    NaN                     NaN  \n",
      "top              NaN                    NaN                     NaN  \n",
      "freq             NaN                    NaN                     NaN  \n",
      "mean     2208.391692                    NaN                     NaN  \n",
      "std      6905.507443                    NaN                     NaN  \n",
      "min         0.792300                    NaN                     NaN  \n",
      "25%         1.000000                    NaN                     NaN  \n",
      "50%         1.000000                    NaN                     NaN  \n",
      "75%       790.000000                    NaN                     NaN  \n",
      "max     33000.000000                    NaN                     NaN  \n"
     ]
    }
   ],
   "source": [
    "explore_dataframe(wwtp,name='Wastewater')"
   ]
  },
  {
   "cell_type": "code",
   "execution_count": 5,
   "id": "5a247e54",
   "metadata": {},
   "outputs": [
    {
     "data": {
      "text/html": [
       "<div>\n",
       "<style scoped>\n",
       "    .dataframe tbody tr th:only-of-type {\n",
       "        vertical-align: middle;\n",
       "    }\n",
       "\n",
       "    .dataframe tbody tr th {\n",
       "        vertical-align: top;\n",
       "    }\n",
       "\n",
       "    .dataframe thead th {\n",
       "        text-align: right;\n",
       "    }\n",
       "</style>\n",
       "<table border=\"1\" class=\"dataframe\">\n",
       "  <thead>\n",
       "    <tr style=\"text-align: right;\">\n",
       "      <th></th>\n",
       "      <th>Lon</th>\n",
       "      <th>Lat</th>\n",
       "      <th>Subregion</th>\n",
       "      <th>treatment_type</th>\n",
       "      <th>treatment_fraction</th>\n",
       "      <th>Capacity</th>\n",
       "      <th>removalfraction_sewer</th>\n",
       "      <th>removalfraction_onsite</th>\n",
       "    </tr>\n",
       "  </thead>\n",
       "  <tbody>\n",
       "    <tr>\n",
       "      <th>0</th>\n",
       "      <td>33.488340</td>\n",
       "      <td>0.614819</td>\n",
       "      <td>Buikwe</td>\n",
       "      <td>primary</td>\n",
       "      <td>NaN</td>\n",
       "      <td>800.0000</td>\n",
       "      <td>NaN</td>\n",
       "      <td>NaN</td>\n",
       "    </tr>\n",
       "    <tr>\n",
       "      <th>1</th>\n",
       "      <td>33.470204</td>\n",
       "      <td>0.615676</td>\n",
       "      <td>Buvuma</td>\n",
       "      <td>secondary</td>\n",
       "      <td>NaN</td>\n",
       "      <td>400.0000</td>\n",
       "      <td>NaN</td>\n",
       "      <td>NaN</td>\n",
       "    </tr>\n",
       "    <tr>\n",
       "      <th>2</th>\n",
       "      <td>31.346599</td>\n",
       "      <td>1.440845</td>\n",
       "      <td>Jinja</td>\n",
       "      <td>not treated</td>\n",
       "      <td>NaN</td>\n",
       "      <td>0.7923</td>\n",
       "      <td>NaN</td>\n",
       "      <td>NaN</td>\n",
       "    </tr>\n",
       "    <tr>\n",
       "      <th>3</th>\n",
       "      <td>33.219319</td>\n",
       "      <td>0.424790</td>\n",
       "      <td>Jinja</td>\n",
       "      <td>tertiary</td>\n",
       "      <td>NaN</td>\n",
       "      <td>12000.0000</td>\n",
       "      <td>NaN</td>\n",
       "      <td>NaN</td>\n",
       "    </tr>\n",
       "    <tr>\n",
       "      <th>4</th>\n",
       "      <td>30.002699</td>\n",
       "      <td>-1.257092</td>\n",
       "      <td>Buikwe</td>\n",
       "      <td>pond</td>\n",
       "      <td>NaN</td>\n",
       "      <td>1300.0000</td>\n",
       "      <td>NaN</td>\n",
       "      <td>NaN</td>\n",
       "    </tr>\n",
       "  </tbody>\n",
       "</table>\n",
       "</div>"
      ],
      "text/plain": [
       "         Lon       Lat Subregion treatment_type  treatment_fraction  \\\n",
       "0  33.488340  0.614819    Buikwe        primary                 NaN   \n",
       "1  33.470204  0.615676    Buvuma      secondary                 NaN   \n",
       "2  31.346599  1.440845     Jinja    not treated                 NaN   \n",
       "3  33.219319  0.424790     Jinja       tertiary                 NaN   \n",
       "4  30.002699 -1.257092    Buikwe           pond                 NaN   \n",
       "\n",
       "     Capacity  removalfraction_sewer  removalfraction_onsite  \n",
       "0    800.0000                    NaN                     NaN  \n",
       "1    400.0000                    NaN                     NaN  \n",
       "2      0.7923                    NaN                     NaN  \n",
       "3  12000.0000                    NaN                     NaN  \n",
       "4   1300.0000                    NaN                     NaN  "
      ]
     },
     "execution_count": 5,
     "metadata": {},
     "output_type": "execute_result"
    }
   ],
   "source": [
    "wwtp.head()\n",
    "\n"
   ]
  },
  {
   "cell_type": "code",
   "execution_count": 6,
   "id": "0fe70519",
   "metadata": {},
   "outputs": [
    {
     "data": {
      "text/plain": [
       "removalfraction_sewer     0\n",
       "removalfraction_onsite    0\n",
       "dtype: int64"
      ]
     },
     "execution_count": 6,
     "metadata": {},
     "output_type": "execute_result"
    }
   ],
   "source": [
    "# Check how many non-null values are in the target candidate columns\n",
    "wwtp[['removalfraction_sewer', 'removalfraction_onsite']].notnull().sum()\n"
   ]
  },
  {
   "cell_type": "code",
   "execution_count": 7,
   "id": "ae14b9cd",
   "metadata": {},
   "outputs": [
    {
     "data": {
      "text/plain": [
       "(25, 3)"
      ]
     },
     "execution_count": 7,
     "metadata": {},
     "output_type": "execute_result"
    }
   ],
   "source": [
    "df_cluster = wwtp[['treatment_type', 'Subregion', 'Capacity']].dropna()\n",
    "df_cluster.shape\n"
   ]
  },
  {
   "cell_type": "code",
   "execution_count": 8,
   "id": "0c3bbbd5",
   "metadata": {},
   "outputs": [
    {
     "name": "stderr",
     "output_type": "stream",
     "text": [
      "c:\\Users\\ADMIN\\anaconda3\\envs\\learn-env\\lib\\site-packages\\sklearn\\preprocessing\\_encoders.py:975: FutureWarning: `sparse` was renamed to `sparse_output` in version 1.2 and will be removed in 1.4. `sparse_output` is ignored unless you leave `sparse` to its default value.\n",
      "  warnings.warn(\n"
     ]
    },
    {
     "data": {
      "text/html": [
       "<div>\n",
       "<style scoped>\n",
       "    .dataframe tbody tr th:only-of-type {\n",
       "        vertical-align: middle;\n",
       "    }\n",
       "\n",
       "    .dataframe tbody tr th {\n",
       "        vertical-align: top;\n",
       "    }\n",
       "\n",
       "    .dataframe thead th {\n",
       "        text-align: right;\n",
       "    }\n",
       "</style>\n",
       "<table border=\"1\" class=\"dataframe\">\n",
       "  <thead>\n",
       "    <tr style=\"text-align: right;\">\n",
       "      <th></th>\n",
       "      <th>treatment_type_pond</th>\n",
       "      <th>treatment_type_primary</th>\n",
       "      <th>treatment_type_secondary</th>\n",
       "      <th>treatment_type_tertiary</th>\n",
       "      <th>Subregion_Buvuma</th>\n",
       "      <th>Subregion_Jinja</th>\n",
       "      <th>Subregion_Mayuge</th>\n",
       "      <th>Capacity</th>\n",
       "    </tr>\n",
       "  </thead>\n",
       "  <tbody>\n",
       "    <tr>\n",
       "      <th>0</th>\n",
       "      <td>0.0</td>\n",
       "      <td>1.0</td>\n",
       "      <td>0.0</td>\n",
       "      <td>0.0</td>\n",
       "      <td>0.0</td>\n",
       "      <td>0.0</td>\n",
       "      <td>0.0</td>\n",
       "      <td>-0.208158</td>\n",
       "    </tr>\n",
       "    <tr>\n",
       "      <th>1</th>\n",
       "      <td>0.0</td>\n",
       "      <td>0.0</td>\n",
       "      <td>1.0</td>\n",
       "      <td>0.0</td>\n",
       "      <td>1.0</td>\n",
       "      <td>0.0</td>\n",
       "      <td>0.0</td>\n",
       "      <td>-0.267277</td>\n",
       "    </tr>\n",
       "    <tr>\n",
       "      <th>2</th>\n",
       "      <td>0.0</td>\n",
       "      <td>0.0</td>\n",
       "      <td>0.0</td>\n",
       "      <td>0.0</td>\n",
       "      <td>0.0</td>\n",
       "      <td>1.0</td>\n",
       "      <td>0.0</td>\n",
       "      <td>-0.326279</td>\n",
       "    </tr>\n",
       "    <tr>\n",
       "      <th>3</th>\n",
       "      <td>0.0</td>\n",
       "      <td>0.0</td>\n",
       "      <td>0.0</td>\n",
       "      <td>1.0</td>\n",
       "      <td>0.0</td>\n",
       "      <td>1.0</td>\n",
       "      <td>0.0</td>\n",
       "      <td>1.447181</td>\n",
       "    </tr>\n",
       "    <tr>\n",
       "      <th>4</th>\n",
       "      <td>1.0</td>\n",
       "      <td>0.0</td>\n",
       "      <td>0.0</td>\n",
       "      <td>0.0</td>\n",
       "      <td>0.0</td>\n",
       "      <td>0.0</td>\n",
       "      <td>0.0</td>\n",
       "      <td>-0.134259</td>\n",
       "    </tr>\n",
       "  </tbody>\n",
       "</table>\n",
       "</div>"
      ],
      "text/plain": [
       "   treatment_type_pond  treatment_type_primary  treatment_type_secondary  \\\n",
       "0                  0.0                     1.0                       0.0   \n",
       "1                  0.0                     0.0                       1.0   \n",
       "2                  0.0                     0.0                       0.0   \n",
       "3                  0.0                     0.0                       0.0   \n",
       "4                  1.0                     0.0                       0.0   \n",
       "\n",
       "   treatment_type_tertiary  Subregion_Buvuma  Subregion_Jinja  \\\n",
       "0                      0.0               0.0              0.0   \n",
       "1                      0.0               1.0              0.0   \n",
       "2                      0.0               0.0              1.0   \n",
       "3                      1.0               0.0              1.0   \n",
       "4                      0.0               0.0              0.0   \n",
       "\n",
       "   Subregion_Mayuge  Capacity  \n",
       "0               0.0 -0.208158  \n",
       "1               0.0 -0.267277  \n",
       "2               0.0 -0.326279  \n",
       "3               0.0  1.447181  \n",
       "4               0.0 -0.134259  "
      ]
     },
     "execution_count": 8,
     "metadata": {},
     "output_type": "execute_result"
    }
   ],
   "source": [
    "from sklearn.preprocessing import OneHotEncoder, StandardScaler\n",
    "from sklearn.compose import ColumnTransformer\n",
    "\n",
    "# Define categorical and numeric columns\n",
    "categorical_features = ['treatment_type', 'Subregion']\n",
    "numeric_features = ['Capacity']\n",
    "\n",
    "# Create the transformers\n",
    "categorical_transformer = OneHotEncoder(drop='first', sparse=False)\n",
    "numeric_transformer = StandardScaler()\n",
    "\n",
    "# Combine into one ColumnTransformer\n",
    "preprocessor = ColumnTransformer(\n",
    "    transformers=[\n",
    "        ('cat', categorical_transformer, categorical_features),\n",
    "        ('num', numeric_transformer, numeric_features)\n",
    "    ]\n",
    ")\n",
    "\n",
    "# Fit the full preprocessor (with both encoder and scaler)\n",
    "X_scaled = preprocessor.fit_transform(df_cluster)\n",
    "\n",
    "# Now access the fitted OneHotEncoder from the preprocessor\n",
    "fitted_encoder = preprocessor.named_transformers_['cat']\n",
    "encoded_cols = fitted_encoder.get_feature_names_out(categorical_features)\n",
    "\n",
    "# Combine with numeric feature(s)\n",
    "all_feature_names = list(encoded_cols) + numeric_features\n",
    "\n",
    "# Convert to DataFrame\n",
    "df_scaled = pd.DataFrame(X_scaled, columns=all_feature_names)\n",
    "df_scaled.head()\n",
    "\n"
   ]
  },
  {
   "cell_type": "code",
   "execution_count": 9,
   "id": "141f1317",
   "metadata": {},
   "outputs": [
    {
     "name": "stderr",
     "output_type": "stream",
     "text": [
      "c:\\Users\\ADMIN\\anaconda3\\envs\\learn-env\\lib\\site-packages\\sklearn\\cluster\\_kmeans.py:1416: FutureWarning: The default value of `n_init` will change from 10 to 'auto' in 1.4. Set the value of `n_init` explicitly to suppress the warning\n",
      "  super()._check_params_vs_input(X, default_n_init=10)\n"
     ]
    },
    {
     "data": {
      "text/html": [
       "<div>\n",
       "<style scoped>\n",
       "    .dataframe tbody tr th:only-of-type {\n",
       "        vertical-align: middle;\n",
       "    }\n",
       "\n",
       "    .dataframe tbody tr th {\n",
       "        vertical-align: top;\n",
       "    }\n",
       "\n",
       "    .dataframe thead th {\n",
       "        text-align: right;\n",
       "    }\n",
       "</style>\n",
       "<table border=\"1\" class=\"dataframe\">\n",
       "  <thead>\n",
       "    <tr style=\"text-align: right;\">\n",
       "      <th></th>\n",
       "      <th>treatment_type</th>\n",
       "      <th>Subregion</th>\n",
       "      <th>Capacity</th>\n",
       "      <th>cluster</th>\n",
       "    </tr>\n",
       "  </thead>\n",
       "  <tbody>\n",
       "    <tr>\n",
       "      <th>0</th>\n",
       "      <td>primary</td>\n",
       "      <td>Buikwe</td>\n",
       "      <td>800.0000</td>\n",
       "      <td>0</td>\n",
       "    </tr>\n",
       "    <tr>\n",
       "      <th>1</th>\n",
       "      <td>secondary</td>\n",
       "      <td>Buvuma</td>\n",
       "      <td>400.0000</td>\n",
       "      <td>0</td>\n",
       "    </tr>\n",
       "    <tr>\n",
       "      <th>2</th>\n",
       "      <td>not treated</td>\n",
       "      <td>Jinja</td>\n",
       "      <td>0.7923</td>\n",
       "      <td>1</td>\n",
       "    </tr>\n",
       "    <tr>\n",
       "      <th>3</th>\n",
       "      <td>tertiary</td>\n",
       "      <td>Jinja</td>\n",
       "      <td>12000.0000</td>\n",
       "      <td>1</td>\n",
       "    </tr>\n",
       "    <tr>\n",
       "      <th>4</th>\n",
       "      <td>pond</td>\n",
       "      <td>Buikwe</td>\n",
       "      <td>1300.0000</td>\n",
       "      <td>0</td>\n",
       "    </tr>\n",
       "  </tbody>\n",
       "</table>\n",
       "</div>"
      ],
      "text/plain": [
       "  treatment_type Subregion    Capacity  cluster\n",
       "0        primary    Buikwe    800.0000        0\n",
       "1      secondary    Buvuma    400.0000        0\n",
       "2    not treated     Jinja      0.7923        1\n",
       "3       tertiary     Jinja  12000.0000        1\n",
       "4           pond    Buikwe   1300.0000        0"
      ]
     },
     "execution_count": 9,
     "metadata": {},
     "output_type": "execute_result"
    }
   ],
   "source": [
    "from sklearn.cluster import KMeans\n",
    "\n",
    "# Fit KMeans on the scaled data\n",
    "kmeans = KMeans(n_clusters=3, random_state=42)\n",
    "df_cluster['cluster'] = kmeans.fit_predict(X_scaled)\n",
    "\n",
    "# Preview\n",
    "df_cluster.head()\n"
   ]
  },
  {
   "cell_type": "code",
   "execution_count": 10,
   "id": "6d02086b",
   "metadata": {},
   "outputs": [
    {
     "data": {
      "image/png": "[encoded data removed]",
      "text/plain": [
       "<Figure size 720x432 with 1 Axes>"
      ]
     },
     "metadata": {
      "needs_background": "light"
     },
     "output_type": "display_data"
    }
   ],
   "source": [
    "df_cluster = df_cluster.merge(wwtp[['Lat', 'Lon']], left_index=True, right_index=True)\n",
    "import matplotlib.pyplot as plt\n",
    "import seaborn as sns\n",
    "\n",
    "plt.figure(figsize=(10, 6))\n",
    "sns.scatterplot(data=df_cluster, x='Lon', y='Lat', hue='cluster', palette='tab10', s=100)\n",
    "plt.title('WWTP Clusters by Location in Uganda')\n",
    "plt.xlabel('Longitude')\n",
    "plt.ylabel('Latitude')\n",
    "plt.grid(True)\n",
    "plt.legend(title='Cluster')\n",
    "plt.show()\n"
   ]
  },
  {
   "cell_type": "code",
   "execution_count": 11,
   "id": "5ce0353c",
   "metadata": {},
   "outputs": [
    {
     "data": {
      "text/html": [
       "<div>\n",
       "<style scoped>\n",
       "    .dataframe tbody tr th:only-of-type {\n",
       "        vertical-align: middle;\n",
       "    }\n",
       "\n",
       "    .dataframe tbody tr th {\n",
       "        vertical-align: top;\n",
       "    }\n",
       "\n",
       "    .dataframe thead tr th {\n",
       "        text-align: left;\n",
       "    }\n",
       "\n",
       "    .dataframe thead tr:last-of-type th {\n",
       "        text-align: right;\n",
       "    }\n",
       "</style>\n",
       "<table border=\"1\" class=\"dataframe\">\n",
       "  <thead>\n",
       "    <tr>\n",
       "      <th></th>\n",
       "      <th colspan=\"4\" halign=\"left\">Capacity</th>\n",
       "      <th>treatment_type</th>\n",
       "      <th>Subregion</th>\n",
       "      <th>Lat</th>\n",
       "      <th>Lon</th>\n",
       "    </tr>\n",
       "    <tr>\n",
       "      <th></th>\n",
       "      <th>mean</th>\n",
       "      <th>min</th>\n",
       "      <th>max</th>\n",
       "      <th>std</th>\n",
       "      <th>&lt;lambda&gt;</th>\n",
       "      <th>&lt;lambda&gt;</th>\n",
       "      <th>mean</th>\n",
       "      <th>mean</th>\n",
       "    </tr>\n",
       "    <tr>\n",
       "      <th>cluster</th>\n",
       "      <th></th>\n",
       "      <th></th>\n",
       "      <th></th>\n",
       "      <th></th>\n",
       "      <th></th>\n",
       "      <th></th>\n",
       "      <th></th>\n",
       "      <th></th>\n",
       "    </tr>\n",
       "  </thead>\n",
       "  <tbody>\n",
       "    <tr>\n",
       "      <th>0</th>\n",
       "      <td>553.823529</td>\n",
       "      <td>1.0000</td>\n",
       "      <td>5400.0</td>\n",
       "      <td>1312.232984</td>\n",
       "      <td>pond</td>\n",
       "      <td>Buikwe</td>\n",
       "      <td>0.265054</td>\n",
       "      <td>31.943840</td>\n",
       "    </tr>\n",
       "    <tr>\n",
       "      <th>1</th>\n",
       "      <td>1827.827471</td>\n",
       "      <td>0.7923</td>\n",
       "      <td>12000.0</td>\n",
       "      <td>4495.134996</td>\n",
       "      <td>tertiary</td>\n",
       "      <td>Jinja</td>\n",
       "      <td>0.734323</td>\n",
       "      <td>32.404717</td>\n",
       "    </tr>\n",
       "    <tr>\n",
       "      <th>2</th>\n",
       "      <td>33000.000000</td>\n",
       "      <td>33000.0000</td>\n",
       "      <td>33000.0</td>\n",
       "      <td>NaN</td>\n",
       "      <td>not treated</td>\n",
       "      <td>Jinja</td>\n",
       "      <td>0.318488</td>\n",
       "      <td>32.607589</td>\n",
       "    </tr>\n",
       "  </tbody>\n",
       "</table>\n",
       "</div>"
      ],
      "text/plain": [
       "             Capacity                                   treatment_type  \\\n",
       "                 mean         min      max          std       <lambda>   \n",
       "cluster                                                                  \n",
       "0          553.823529      1.0000   5400.0  1312.232984           pond   \n",
       "1         1827.827471      0.7923  12000.0  4495.134996       tertiary   \n",
       "2        33000.000000  33000.0000  33000.0          NaN    not treated   \n",
       "\n",
       "        Subregion       Lat        Lon  \n",
       "         <lambda>      mean       mean  \n",
       "cluster                                 \n",
       "0          Buikwe  0.265054  31.943840  \n",
       "1           Jinja  0.734323  32.404717  \n",
       "2           Jinja  0.318488  32.607589  "
      ]
     },
     "execution_count": 11,
     "metadata": {},
     "output_type": "execute_result"
    }
   ],
   "source": [
    "# Append cluster labels to original data\n",
    "wwtp_clustered = wwtp.copy()\n",
    "wwtp_clustered['cluster'] = df_cluster['cluster']\n",
    "\n",
    "# Summary statistics by cluster\n",
    "profile = wwtp_clustered.groupby('cluster').agg({\n",
    "    'Capacity': ['mean', 'min', 'max', 'std'],\n",
    "    'treatment_type': lambda x: x.mode().iloc[0],  # Most common\n",
    "    'Subregion': lambda x: x.mode().iloc[0],\n",
    "    'Lat': 'mean',\n",
    "    'Lon': 'mean'\n",
    "})\n",
    "\n",
    "profile\n"
   ]
  },
  {
   "cell_type": "code",
   "execution_count": 12,
   "id": "10e80dcf",
   "metadata": {},
   "outputs": [
    {
     "name": "stderr",
     "output_type": "stream",
     "text": [
      "<ipython-input-12-f4b8af626680>:12: DeprecationWarning: *scatter_mapbox* is deprecated! Use *scatter_map* instead. Learn more at: https://plotly.com/python/mapbox-to-maplibre/\n",
      "  fig = px.scatter_mapbox(\n"
     ]
    },
    {
     "data": {
      "application/vnd.plotly.v1+json": {
       "config": {
        "plotlyServerURL": "https://plot.ly"
       },
       "data": [
        {
         "customdata": [
          [
           800,
           "primary",
           0
          ],
          [
           400,
           "secondary",
           0
          ],
          [
           0.7923,
           "not treated",
           1
          ],
          [
           12000,
           "tertiary",
           1
          ],
          [
           1300,
           "pond",
           0
          ],
          [
           55,
           "primary",
           0
          ],
          [
           33000,
           "not treated",
           2
          ],
          [
           5400,
           "secondary",
           0
          ],
          [
           1,
           "primary",
           0
          ],
          [
           1,
           "secondary",
           1
          ],
          [
           1,
           "primary",
           1
          ],
          [
           1,
           "pond",
           0
          ],
          [
           1,
           "not treated",
           0
          ],
          [
           550,
           "secondary",
           0
          ],
          [
           790,
           "tertiary",
           1
          ],
          [
           900,
           "secondary",
           0
          ],
          [
           1,
           "primary",
           0
          ],
          [
           1,
           "pond",
           0
          ],
          [
           1,
           "not treated",
           0
          ],
          [
           1,
           "secondary",
           1
          ],
          [
           1,
           "primary",
           0
          ],
          [
           1,
           "not treated",
           0
          ],
          [
           1,
           "pond",
           0
          ],
          [
           1,
           "tertiary",
           1
          ],
          [
           1,
           "pond",
           0
          ]
         ],
         "hovertemplate": "<b>%{hovertext}</b><br><br>AdjustedCapacity=%{marker.size}<br>Subregion=%{text}<br>Lat=%{lat}<br>Lon=%{lon}<br>Capacity=%{customdata[0]}<br>treatment_type=%{customdata[1]}<br>cluster=%{marker.color}<extra></extra>",
         "hovertext": [
          "Buikwe",
          "Buvuma",
          "Jinja",
          "Jinja",
          "Buikwe",
          "Buvuma",
          "Jinja",
          "Buikwe",
          "Mayuge",
          "Jinja",
          "Jinja",
          "Buvuma",
          "Buikwe",
          "Mayuge",
          "Jinja",
          "Mayuge",
          "Buikwe",
          "Buvuma",
          "Mayuge",
          "Jinja",
          "Mayuge",
          "Buvuma",
          "Mayuge",
          "Jinja",
          "Buikwe"
         ],
         "lat": {
          "bdata": "mrM+5Zis4z+7050nnrPjP5KumXyzDfc/5L1qZcIv2z8AA0GADB30v8ZNDTSf8+Q/EK26sxti1D8AMEOI0C3WPwVPIVfqOQZAxYzw9iCE5j+yL9l4sEX7PzW4rS08L9a/aqLPRxlx1L8KZkzBGmerP1GgT+RJ0rE/rIxGPq/4AUA8LT9wlSfjv7XFNT6TfeO/7q8e963W47/V6NUApSHsvyKLNPEOcPS/0J1g/3Uu8T8VqTC2EGTxP/kvEATI0Po/wavlzkwwsD8=",
          "dtype": "f8"
         },
         "legendgroup": "",
         "lon": {
          "bdata": "EarU7IG+QEBlOQmlL7xAQInTSba6WD9AGjIepRKcQEBeu7ThsAA+QFVOe0rORT5AZTTyecVNQECi6vyArEVAQIsyG2SSJ0BAmGw82GIXQUBW8Ubmkc9AQCGunL0zvj9A6PaSxmjBP0BF8pVASjpAQD0q/u+IPEBAhqxu9ZxyQEBsCfmgZ6s+QJrtCn2wrD5AqYdodAepPkDb+BOVDUM+QGjNj7+0sD1ABkt1AS8TQUBstBzooRRBQMe5TbhXuj9AW0HTEisNQEA=",
          "dtype": "f8"
         },
         "marker": {
          "color": {
           "bdata": "AAAAAAAAAAABAAAAAQAAAAAAAAAAAAAAAgAAAAAAAAAAAAAAAQAAAAEAAAAAAAAAAAAAAAAAAAABAAAAAAAAAAAAAAAAAAAAAAAAAAEAAAAAAAAAAAAAAAAAAAABAAAAAAAAAA==",
           "dtype": "i4"
          },
          "coloraxis": "coloraxis",
          "opacity": 0.8,
          "size": {
           "bdata": "AAAAAAAAiUAAAAAAAAB5QAAAAAAAABRAAAAAAABwx0AAAAAAAFCUQAAAAAAAgEtAAAAAAAAd4EAAAAAAABi1QAAAAAAAABRAAAAAAAAAFEAAAAAAAAAUQAAAAAAAABRAAAAAAAAAFEAAAAAAADCBQAAAAAAAsIhAAAAAAAAgjEAAAAAAAAAUQAAAAAAAABRAAAAAAAAAFEAAAAAAAAAUQAAAAAAAABRAAAAAAAAAFEAAAAAAAAAUQAAAAAAAABRAAAAAAAAAFEA=",
           "dtype": "f8"
          },
          "sizemode": "area",
          "sizeref": 36.666666666666664
         },
         "mode": "markers+text",
         "name": "",
         "showlegend": false,
         "subplot": "mapbox",
         "text": [
          "Buikwe",
          "Buvuma",
          "Jinja",
          "Jinja",
          "Buikwe",
          "Buvuma",
          "Jinja",
          "Buikwe",
          "Mayuge",
          "Jinja",
          "Jinja",
          "Buvuma",
          "Buikwe",
          "Mayuge",
          "Jinja",
          "Mayuge",
          "Buikwe",
          "Buvuma",
          "Mayuge",
          "Jinja",
          "Mayuge",
          "Buvuma",
          "Mayuge",
          "Jinja",
          "Buikwe"
         ],
         "textposition": "top center",
         "type": "scattermapbox"
        }
       ],
       "layout": {
        "coloraxis": {
         "colorbar": {
          "title": {
           "text": "cluster"
          }
         },
         "colorscale": [
          [
           0,
           "#0d0887"
          ],
          [
           0.1111111111111111,
           "#46039f"
          ],
          [
           0.2222222222222222,
           "#7201a8"
          ],
          [
           0.3333333333333333,
           "#9c179e"
          ],
          [
           0.4444444444444444,
           "#bd3786"
          ],
          [
           0.5555555555555556,
           "#d8576b"
          ],
          [
           0.6666666666666666,
           "#ed7953"
          ],
          [
           0.7777777777777778,
           "#fb9f3a"
          ],
          [
           0.8888888888888888,
           "#fdca26"
          ],
          [
           1,
           "#f0f921"
          ]
         ]
        },
        "height": 600,
        "legend": {
         "itemsizing": "constant",
         "tracegroupgap": 0
        },
        "mapbox": {
         "center": {
          "lat": 0.398586454,
          "lon": 32.099435396
         },
         "domain": {
          "x": [
           0,
           1
          ],
          "y": [
           0,
           1
          ]
         },
         "style": "open-street-map",
         "zoom": 6
        },
        "margin": {
         "b": 0,
         "l": 0,
         "r": 0,
         "t": 40
        },
        "template": {
         "data": {
          "bar": [
           {
            "error_x": {
             "color": "#2a3f5f"
            },
            "error_y": {
             "color": "#2a3f5f"
            },
            "marker": {
             "line": {
              "color": "#E5ECF6",
              "width": 0.5
             },
             "pattern": {
              "fillmode": "overlay",
              "size": 10,
              "solidity": 0.2
             }
            },
            "type": "bar"
           }
          ],
          "barpolar": [
           {
            "marker": {
             "line": {
              "color": "#E5ECF6",
              "width": 0.5
             },
             "pattern": {
              "fillmode": "overlay",
              "size": 10,
              "solidity": 0.2
             }
            },
            "type": "barpolar"
           }
          ],
          "carpet": [
           {
            "aaxis": {
             "endlinecolor": "#2a3f5f",
             "gridcolor": "white",
             "linecolor": "white",
             "minorgridcolor": "white",
             "startlinecolor": "#2a3f5f"
            },
            "baxis": {
             "endlinecolor": "#2a3f5f",
             "gridcolor": "white",
             "linecolor": "white",
             "minorgridcolor": "white",
             "startlinecolor": "#2a3f5f"
            },
            "type": "carpet"
           }
          ],
          "choropleth": [
           {
            "colorbar": {
             "outlinewidth": 0,
             "ticks": ""
            },
            "type": "choropleth"
           }
          ],
          "contour": [
           {
            "colorbar": {
             "outlinewidth": 0,
             "ticks": ""
            },
            "colorscale": [
             [
              0,
              "#0d0887"
             ],
             [
              0.1111111111111111,
              "#46039f"
             ],
             [
              0.2222222222222222,
              "#7201a8"
             ],
             [
              0.3333333333333333,
              "#9c179e"
             ],
             [
              0.4444444444444444,
              "#bd3786"
             ],
             [
              0.5555555555555556,
              "#d8576b"
             ],
             [
              0.6666666666666666,
              "#ed7953"
             ],
             [
              0.7777777777777778,
              "#fb9f3a"
             ],
             [
              0.8888888888888888,
              "#fdca26"
             ],
             [
              1,
              "#f0f921"
             ]
            ],
            "type": "contour"
           }
          ],
          "contourcarpet": [
           {
            "colorbar": {
             "outlinewidth": 0,
             "ticks": ""
            },
            "type": "contourcarpet"
           }
          ],
          "heatmap": [
           {
            "colorbar": {
             "outlinewidth": 0,
             "ticks": ""
            },
            "colorscale": [
             [
              0,
              "#0d0887"
             ],
             [
              0.1111111111111111,
              "#46039f"
             ],
             [
              0.2222222222222222,
              "#7201a8"
             ],
             [
              0.3333333333333333,
              "#9c179e"
             ],
             [
              0.4444444444444444,
              "#bd3786"
             ],
             [
              0.5555555555555556,
              "#d8576b"
             ],
             [
              0.6666666666666666,
              "#ed7953"
             ],
             [
              0.7777777777777778,
              "#fb9f3a"
             ],
             [
              0.8888888888888888,
              "#fdca26"
             ],
             [
              1,
              "#f0f921"
             ]
            ],
            "type": "heatmap"
           }
          ],
          "histogram": [
           {
            "marker": {
             "pattern": {
              "fillmode": "overlay",
              "size": 10,
              "solidity": 0.2
             }
            },
            "type": "histogram"
           }
          ],
          "histogram2d": [
           {
            "colorbar": {
             "outlinewidth": 0,
             "ticks": ""
            },
            "colorscale": [
             [
              0,
              "#0d0887"
             ],
             [
              0.1111111111111111,
              "#46039f"
             ],
             [
              0.2222222222222222,
              "#7201a8"
             ],
             [
              0.3333333333333333,
              "#9c179e"
             ],
             [
              0.4444444444444444,
              "#bd3786"
             ],
             [
              0.5555555555555556,
              "#d8576b"
             ],
             [
              0.6666666666666666,
              "#ed7953"
             ],
             [
              0.7777777777777778,
              "#fb9f3a"
             ],
             [
              0.8888888888888888,
              "#fdca26"
             ],
             [
              1,
              "#f0f921"
             ]
            ],
            "type": "histogram2d"
           }
          ],
          "histogram2dcontour": [
           {
            "colorbar": {
             "outlinewidth": 0,
             "ticks": ""
            },
            "colorscale": [
             [
              0,
              "#0d0887"
             ],
             [
              0.1111111111111111,
              "#46039f"
             ],
             [
              0.2222222222222222,
              "#7201a8"
             ],
             [
              0.3333333333333333,
              "#9c179e"
             ],
             [
              0.4444444444444444,
              "#bd3786"
             ],
             [
              0.5555555555555556,
              "#d8576b"
             ],
             [
              0.6666666666666666,
              "#ed7953"
             ],
             [
              0.7777777777777778,
              "#fb9f3a"
             ],
             [
              0.8888888888888888,
              "#fdca26"
             ],
             [
              1,
              "#f0f921"
             ]
            ],
            "type": "histogram2dcontour"
           }
          ],
          "mesh3d": [
           {
            "colorbar": {
             "outlinewidth": 0,
             "ticks": ""
            },
            "type": "mesh3d"
           }
          ],
          "parcoords": [
           {
            "line": {
             "colorbar": {
              "outlinewidth": 0,
              "ticks": ""
             }
            },
            "type": "parcoords"
           }
          ],
          "pie": [
           {
            "automargin": true,
            "type": "pie"
           }
          ],
          "scatter": [
           {
            "fillpattern": {
             "fillmode": "overlay",
             "size": 10,
             "solidity": 0.2
            },
            "type": "scatter"
           }
          ],
          "scatter3d": [
           {
            "line": {
             "colorbar": {
              "outlinewidth": 0,
              "ticks": ""
             }
            },
            "marker": {
             "colorbar": {
              "outlinewidth": 0,
              "ticks": ""
             }
            },
            "type": "scatter3d"
           }
          ],
          "scattercarpet": [
           {
            "marker": {
             "colorbar": {
              "outlinewidth": 0,
              "ticks": ""
             }
            },
            "type": "scattercarpet"
           }
          ],
          "scattergeo": [
           {
            "marker": {
             "colorbar": {
              "outlinewidth": 0,
              "ticks": ""
             }
            },
            "type": "scattergeo"
           }
          ],
          "scattergl": [
           {
            "marker": {
             "colorbar": {
              "outlinewidth": 0,
              "ticks": ""
             }
            },
            "type": "scattergl"
           }
          ],
          "scattermap": [
           {
            "marker": {
             "colorbar": {
              "outlinewidth": 0,
              "ticks": ""
             }
            },
            "type": "scattermap"
           }
          ],
          "scattermapbox": [
           {
            "marker": {
             "colorbar": {
              "outlinewidth": 0,
              "ticks": ""
             }
            },
            "type": "scattermapbox"
           }
          ],
          "scatterpolar": [
           {
            "marker": {
             "colorbar": {
              "outlinewidth": 0,
              "ticks": ""
             }
            },
            "type": "scatterpolar"
           }
          ],
          "scatterpolargl": [
           {
            "marker": {
             "colorbar": {
              "outlinewidth": 0,
              "ticks": ""
             }
            },
            "type": "scatterpolargl"
           }
          ],
          "scatterternary": [
           {
            "marker": {
             "colorbar": {
              "outlinewidth": 0,
              "ticks": ""
             }
            },
            "type": "scatterternary"
           }
          ],
          "surface": [
           {
            "colorbar": {
             "outlinewidth": 0,
             "ticks": ""
            },
            "colorscale": [
             [
              0,
              "#0d0887"
             ],
             [
              0.1111111111111111,
              "#46039f"
             ],
             [
              0.2222222222222222,
              "#7201a8"
             ],
             [
              0.3333333333333333,
              "#9c179e"
             ],
             [
              0.4444444444444444,
              "#bd3786"
             ],
             [
              0.5555555555555556,
              "#d8576b"
             ],
             [
              0.6666666666666666,
              "#ed7953"
             ],
             [
              0.7777777777777778,
              "#fb9f3a"
             ],
             [
              0.8888888888888888,
              "#fdca26"
             ],
             [
              1,
              "#f0f921"
             ]
            ],
            "type": "surface"
           }
          ],
          "table": [
           {
            "cells": {
             "fill": {
              "color": "#EBF0F8"
             },
             "line": {
              "color": "white"
             }
            },
            "header": {
             "fill": {
              "color": "#C8D4E3"
             },
             "line": {
              "color": "white"
             }
            },
            "type": "table"
           }
          ]
         },
         "layout": {
          "annotationdefaults": {
           "arrowcolor": "#2a3f5f",
           "arrowhead": 0,
           "arrowwidth": 1
          },
          "autotypenumbers": "strict",
          "coloraxis": {
           "colorbar": {
            "outlinewidth": 0,
            "ticks": ""
           }
          },
          "colorscale": {
           "diverging": [
            [
             0,
             "#8e0152"
            ],
            [
             0.1,
             "#c51b7d"
            ],
            [
             0.2,
             "#de77ae"
            ],
            [
             0.3,
             "#f1b6da"
            ],
            [
             0.4,
             "#fde0ef"
            ],
            [
             0.5,
             "#f7f7f7"
            ],
            [
             0.6,
             "#e6f5d0"
            ],
            [
             0.7,
             "#b8e186"
            ],
            [
             0.8,
             "#7fbc41"
            ],
            [
             0.9,
             "#4d9221"
            ],
            [
             1,
             "#276419"
            ]
           ],
           "sequential": [
            [
             0,
             "#0d0887"
            ],
            [
             0.1111111111111111,
             "#46039f"
            ],
            [
             0.2222222222222222,
             "#7201a8"
            ],
            [
             0.3333333333333333,
             "#9c179e"
            ],
            [
             0.4444444444444444,
             "#bd3786"
            ],
            [
             0.5555555555555556,
             "#d8576b"
            ],
            [
             0.6666666666666666,
             "#ed7953"
            ],
            [
             0.7777777777777778,
             "#fb9f3a"
            ],
            [
             0.8888888888888888,
             "#fdca26"
            ],
            [
             1,
             "#f0f921"
            ]
           ],
           "sequentialminus": [
            [
             0,
             "#0d0887"
            ],
            [
             0.1111111111111111,
             "#46039f"
            ],
            [
             0.2222222222222222,
             "#7201a8"
            ],
            [
             0.3333333333333333,
             "#9c179e"
            ],
            [
             0.4444444444444444,
             "#bd3786"
            ],
            [
             0.5555555555555556,
             "#d8576b"
            ],
            [
             0.6666666666666666,
             "#ed7953"
            ],
            [
             0.7777777777777778,
             "#fb9f3a"
            ],
            [
             0.8888888888888888,
             "#fdca26"
            ],
            [
             1,
             "#f0f921"
            ]
           ]
          },
          "colorway": [
           "#636efa",
           "#EF553B",
           "#00cc96",
           "#ab63fa",
           "#FFA15A",
           "#19d3f3",
           "#FF6692",
           "#B6E880",
           "#FF97FF",
           "#FECB52"
          ],
          "font": {
           "color": "#2a3f5f"
          },
          "geo": {
           "bgcolor": "white",
           "lakecolor": "white",
           "landcolor": "#E5ECF6",
           "showlakes": true,
           "showland": true,
           "subunitcolor": "white"
          },
          "hoverlabel": {
           "align": "left"
          },
          "hovermode": "closest",
          "mapbox": {
           "style": "light"
          },
          "paper_bgcolor": "white",
          "plot_bgcolor": "#E5ECF6",
          "polar": {
           "angularaxis": {
            "gridcolor": "white",
            "linecolor": "white",
            "ticks": ""
           },
           "bgcolor": "#E5ECF6",
           "radialaxis": {
            "gridcolor": "white",
            "linecolor": "white",
            "ticks": ""
           }
          },
          "scene": {
           "xaxis": {
            "backgroundcolor": "#E5ECF6",
            "gridcolor": "white",
            "gridwidth": 2,
            "linecolor": "white",
            "showbackground": true,
            "ticks": "",
            "zerolinecolor": "white"
           },
           "yaxis": {
            "backgroundcolor": "#E5ECF6",
            "gridcolor": "white",
            "gridwidth": 2,
            "linecolor": "white",
            "showbackground": true,
            "ticks": "",
            "zerolinecolor": "white"
           },
           "zaxis": {
            "backgroundcolor": "#E5ECF6",
            "gridcolor": "white",
            "gridwidth": 2,
            "linecolor": "white",
            "showbackground": true,
            "ticks": "",
            "zerolinecolor": "white"
           }
          },
          "shapedefaults": {
           "line": {
            "color": "#2a3f5f"
           }
          },
          "ternary": {
           "aaxis": {
            "gridcolor": "white",
            "linecolor": "white",
            "ticks": ""
           },
           "baxis": {
            "gridcolor": "white",
            "linecolor": "white",
            "ticks": ""
           },
           "bgcolor": "#E5ECF6",
           "caxis": {
            "gridcolor": "white",
            "linecolor": "white",
            "ticks": ""
           }
          },
          "title": {
           "x": 0.05
          },
          "xaxis": {
           "automargin": true,
           "gridcolor": "white",
           "linecolor": "white",
           "ticks": "",
           "title": {
            "standoff": 15
           },
           "zerolinecolor": "white",
           "zerolinewidth": 2
          },
          "yaxis": {
           "automargin": true,
           "gridcolor": "white",
           "linecolor": "white",
           "ticks": "",
           "title": {
            "standoff": 15
           },
           "zerolinecolor": "white",
           "zerolinewidth": 2
          }
         }
        },
        "title": {
         "text": "WWTP Clusters in Uganda"
        }
       }
      }
     },
     "metadata": {},
     "output_type": "display_data"
    }
   ],
   "source": [
    "import pandas as pd\n",
    "import plotly.express as px\n",
    "import numpy as np\n",
    "\n",
    "# Ensure a copy of the clustered DataFrame\n",
    "wwtp = df_cluster.copy()\n",
    "\n",
    "# Ensure small capacity plants are visible\n",
    "wwtp[\"AdjustedCapacity\"] = np.clip(wwtp[\"Capacity\"], a_min=5, a_max=None)\n",
    "\n",
    "# Create the scatter_mapbox plot\n",
    "fig = px.scatter_mapbox(\n",
    "    wwtp,\n",
    "    lat=\"Lat\",\n",
    "    lon=\"Lon\",\n",
    "    color=\"cluster\",\n",
    "    size=\"AdjustedCapacity\",\n",
    "    size_max=30,  # Increase this to make small plants more visible\n",
    "    hover_name=\"Subregion\",\n",
    "    text=\"Subregion\",  # Label each marker with its subregion\n",
    "    hover_data={\"Capacity\": True, \"treatment_type\": True, \"cluster\": True},\n",
    "    zoom=6,\n",
    "    height=600,\n",
    "    title=\"WWTP Clusters in Uganda\"\n",
    ")\n",
    "\n",
    "# Update trace settings (without using 'line', which causes the error)\n",
    "fig.update_traces(\n",
    "    textposition=\"top center\",\n",
    "    marker_opacity=0.8\n",
    ")\n",
    "\n",
    "# Set the map style\n",
    "fig.update_layout(mapbox_style=\"open-street-map\")\n",
    "\n",
    "# Set layout margins\n",
    "fig.update_layout(margin={\"r\":0,\"t\":40,\"l\":0,\"b\":0})\n",
    "\n",
    "# Show the plot\n",
    "fig.show()\n"
   ]
  },
  {
   "cell_type": "code",
   "execution_count": 13,
   "id": "237e248d",
   "metadata": {},
   "outputs": [
    {
     "name": "stdout",
     "output_type": "stream",
     "text": [
      "Note: you may need to restart the kernel to use updated packages.Requirement already satisfied: dash in c:\\users\\admin\\anaconda3\\envs\\learn-env\\lib\\site-packages (3.0.4)\n",
      "Requirement already satisfied: plotly in c:\\users\\admin\\anaconda3\\envs\\learn-env\\lib\\site-packages (6.1.2)\n",
      "Requirement already satisfied: pandas in c:\\users\\admin\\anaconda3\\envs\\learn-env\\lib\\site-packages (2.0.3)\n",
      "Requirement already satisfied: Flask<3.1,>=1.0.4 in c:\\users\\admin\\anaconda3\\envs\\learn-env\\lib\\site-packages (from dash) (3.0.3)\n",
      "Requirement already satisfied: Werkzeug<3.1 in c:\\users\\admin\\anaconda3\\envs\\learn-env\\lib\\site-packages (from dash) (3.0.6)\n",
      "Requirement already satisfied: importlib-metadata in c:\\users\\admin\\anaconda3\\envs\\learn-env\\lib\\site-packages (from dash) (8.5.0)\n",
      "Requirement already satisfied: typing-extensions>=4.1.1 in c:\\users\\admin\\anaconda3\\envs\\learn-env\\lib\\site-packages (from dash) (4.13.2)\n"
     ]
    },
    {
     "name": "stderr",
     "output_type": "stream",
     "text": [
      "WARNING: Ignoring invalid distribution -atplotlib (c:\\users\\admin\\anaconda3\\envs\\learn-env\\lib\\site-packages)\n",
      "WARNING: Ignoring invalid distribution -atplotlib (c:\\users\\admin\\anaconda3\\envs\\learn-env\\lib\\site-packages)\n",
      "WARNING: Ignoring invalid distribution -atplotlib (c:\\users\\admin\\anaconda3\\envs\\learn-env\\lib\\site-packages)\n"
     ]
    },
    {
     "name": "stdout",
     "output_type": "stream",
     "text": [
      "\n",
      "Requirement already satisfied: requests in c:\\users\\admin\\anaconda3\\envs\\learn-env\\lib\\site-packages (from dash) (2.32.3)\n",
      "Requirement already satisfied: retrying in c:\\users\\admin\\anaconda3\\envs\\learn-env\\lib\\site-packages (from dash) (1.3.3)\n",
      "Requirement already satisfied: nest-asyncio in c:\\users\\admin\\anaconda3\\envs\\learn-env\\lib\\site-packages (from dash) (1.6.0)\n",
      "Requirement already satisfied: setuptools in c:\\users\\admin\\anaconda3\\envs\\learn-env\\lib\\site-packages (from dash) (75.3.2)\n",
      "Requirement already satisfied: narwhals>=1.15.1 in c:\\users\\admin\\anaconda3\\envs\\learn-env\\lib\\site-packages (from plotly) (1.42.0)\n",
      "Requirement already satisfied: packaging in c:\\users\\admin\\anaconda3\\envs\\learn-env\\lib\\site-packages (from plotly) (24.2)\n",
      "Requirement already satisfied: python-dateutil>=2.8.2 in c:\\users\\admin\\anaconda3\\envs\\learn-env\\lib\\site-packages (from pandas) (2.9.0.post0)\n",
      "Requirement already satisfied: pytz>=2020.1 in c:\\users\\admin\\anaconda3\\envs\\learn-env\\lib\\site-packages (from pandas) (2020.1)\n",
      "Requirement already satisfied: tzdata>=2022.1 in c:\\users\\admin\\anaconda3\\envs\\learn-env\\lib\\site-packages (from pandas) (2025.2)\n",
      "Requirement already satisfied: numpy>=1.20.3 in c:\\users\\admin\\anaconda3\\envs\\learn-env\\lib\\site-packages (from pandas) (1.23.0)\n",
      "Requirement already satisfied: Jinja2>=3.1.2 in c:\\users\\admin\\anaconda3\\envs\\learn-env\\lib\\site-packages (from Flask<3.1,>=1.0.4->dash) (3.1.6)\n",
      "Requirement already satisfied: itsdangerous>=2.1.2 in c:\\users\\admin\\anaconda3\\envs\\learn-env\\lib\\site-packages (from Flask<3.1,>=1.0.4->dash) (2.2.0)\n",
      "Requirement already satisfied: click>=8.1.3 in c:\\users\\admin\\anaconda3\\envs\\learn-env\\lib\\site-packages (from Flask<3.1,>=1.0.4->dash) (8.1.8)\n",
      "Requirement already satisfied: blinker>=1.6.2 in c:\\users\\admin\\anaconda3\\envs\\learn-env\\lib\\site-packages (from Flask<3.1,>=1.0.4->dash) (1.8.2)\n",
      "Requirement already satisfied: zipp>=3.20 in c:\\users\\admin\\anaconda3\\envs\\learn-env\\lib\\site-packages (from importlib-metadata->dash) (3.20.2)\n",
      "Requirement already satisfied: six>=1.5 in c:\\users\\admin\\anaconda3\\envs\\learn-env\\lib\\site-packages (from python-dateutil>=2.8.2->pandas) (1.15.0)\n",
      "Requirement already satisfied: MarkupSafe>=2.1.1 in c:\\users\\admin\\anaconda3\\envs\\learn-env\\lib\\site-packages (from Werkzeug<3.1->dash) (2.1.5)\n",
      "Requirement already satisfied: charset-normalizer<4,>=2 in c:\\users\\admin\\anaconda3\\envs\\learn-env\\lib\\site-packages (from requests->dash) (3.4.2)\n",
      "Requirement already satisfied: idna<4,>=2.5 in c:\\users\\admin\\anaconda3\\envs\\learn-env\\lib\\site-packages (from requests->dash) (2.10)\n",
      "Requirement already satisfied: urllib3<3,>=1.21.1 in c:\\users\\admin\\anaconda3\\envs\\learn-env\\lib\\site-packages (from requests->dash) (1.25.10)\n",
      "Requirement already satisfied: certifi>=2017.4.17 in c:\\users\\admin\\anaconda3\\envs\\learn-env\\lib\\site-packages (from requests->dash) (2024.8.30)\n",
      "Requirement already satisfied: colorama in c:\\users\\admin\\anaconda3\\envs\\learn-env\\lib\\site-packages (from click>=8.1.3->Flask<3.1,>=1.0.4->dash) (0.4.3)\n"
     ]
    }
   ],
   "source": [
    "pip install dash plotly pandas\n"
   ]
  },
  {
   "cell_type": "code",
   "execution_count": 19,
   "id": "af4a91cf",
   "metadata": {},
   "outputs": [
    {
     "data": {
      "text/plain": [
       "Index(['adm4_id', 'adm4_src', 'adm4_name', 'adm4_name1', 'adm4_name2',\n",
       "       'adm3_id', 'adm3_src', 'adm3_name', 'adm3_name1', 'adm3_name2',\n",
       "       'adm2_id', 'adm2_src', 'adm2_name', 'adm2_name1', 'adm2_name2',\n",
       "       'adm1_id', 'adm1_src', 'adm1_name', 'adm1_name1', 'adm1_name2',\n",
       "       'adm0_id', 'adm0_src', 'adm0_name', 'adm0_name1', 'adm0_name2',\n",
       "       'src_lvl', 'src_lang', 'src_lang1', 'src_lang2', 'src_date',\n",
       "       'src_update', 'src_name', 'src_name1', 'src_lic', 'src_url', 'src_grp',\n",
       "       'iso_cd', 'iso_2', 'iso_3', 'iso_3_grp', 'region3_cd', 'region3_nm',\n",
       "       'region2_cd', 'region2_nm', 'region1_cd', 'region1_nm', 'status_cd',\n",
       "       'status_nm', 'wld_date', 'wld_update', 'wld_view', 'wld_notes',\n",
       "       'pop_src', 't'],\n",
       "      dtype='object')"
      ]
     },
     "execution_count": 19,
     "metadata": {},
     "output_type": "execute_result"
    }
   ],
   "source": [
    "df_pop = pd.read_csv('Data/adm4_population.csv',low_memory=False)\n",
    "\n",
    "# Inspect key columns\n",
    "df_pop.columns"
   ]
  },
  {
   "cell_type": "code",
   "execution_count": 20,
   "id": "2eddeb8c",
   "metadata": {},
   "outputs": [],
   "source": [
    "# Load the needed columns\n",
    "df_pop_cleaned = df_pop[['adm2_name', 't']].copy()\n",
    "\n",
    "# Rename for clarity\n",
    "df_pop_cleaned = df_pop_cleaned.rename(columns={\n",
    "    'adm2_name': 'Subregion',   # To match WWTP dataset\n",
    "    't': 'Population'           # Rename the population column\n",
    "})\n",
    "\n",
    "# Drop rows with missing Subregion or Population\n",
    "df_pop_cleaned.dropna(subset=['Subregion', 'Population'], inplace=True)\n",
    "\n",
    "# Clean Population to numeric (in case it is string formatted)\n",
    "df_pop_cleaned['Population'] = pd.to_numeric(df_pop_cleaned['Population'], errors='coerce')\n"
   ]
  },
  {
   "cell_type": "code",
   "execution_count": null,
   "id": "dae3b2ee",
   "metadata": {},
   "outputs": [],
   "source": [
    "# Merge based on the Subregion/district\n",
    "wwtp_enriched = wwtp.merge(df_pop_cleaned, on='Subregion', how='left')\n"
   ]
  },
  {
   "cell_type": "code",
   "execution_count": 22,
   "id": "270c3dab",
   "metadata": {},
   "outputs": [
    {
     "name": "stdout",
     "output_type": "stream",
     "text": [
      "0 rows missing population\n"
     ]
    },
    {
     "data": {
      "text/html": [
       "<div>\n",
       "<style scoped>\n",
       "    .dataframe tbody tr th:only-of-type {\n",
       "        vertical-align: middle;\n",
       "    }\n",
       "\n",
       "    .dataframe tbody tr th {\n",
       "        vertical-align: top;\n",
       "    }\n",
       "\n",
       "    .dataframe thead th {\n",
       "        text-align: right;\n",
       "    }\n",
       "</style>\n",
       "<table border=\"1\" class=\"dataframe\">\n",
       "  <thead>\n",
       "    <tr style=\"text-align: right;\">\n",
       "      <th></th>\n",
       "      <th>Subregion</th>\n",
       "      <th>Population</th>\n",
       "    </tr>\n",
       "  </thead>\n",
       "  <tbody>\n",
       "    <tr>\n",
       "      <th>0</th>\n",
       "      <td>Buikwe</td>\n",
       "      <td>24321.0</td>\n",
       "    </tr>\n",
       "    <tr>\n",
       "      <th>1</th>\n",
       "      <td>Buikwe</td>\n",
       "      <td>22913.0</td>\n",
       "    </tr>\n",
       "    <tr>\n",
       "      <th>2</th>\n",
       "      <td>Buikwe</td>\n",
       "      <td>63876.0</td>\n",
       "    </tr>\n",
       "    <tr>\n",
       "      <th>3</th>\n",
       "      <td>Buikwe</td>\n",
       "      <td>49794.0</td>\n",
       "    </tr>\n",
       "    <tr>\n",
       "      <th>4</th>\n",
       "      <td>Buikwe</td>\n",
       "      <td>12407.0</td>\n",
       "    </tr>\n",
       "  </tbody>\n",
       "</table>\n",
       "</div>"
      ],
      "text/plain": [
       "  Subregion  Population\n",
       "0    Buikwe     24321.0\n",
       "1    Buikwe     22913.0\n",
       "2    Buikwe     63876.0\n",
       "3    Buikwe     49794.0\n",
       "4    Buikwe     12407.0"
      ]
     },
     "execution_count": 22,
     "metadata": {},
     "output_type": "execute_result"
    }
   ],
   "source": [
    "# How many WWTPs now have population data?\n",
    "print(wwtp_enriched['Population'].isna().sum(), 'rows missing population')\n",
    "wwtp_enriched[['Subregion', 'Population']].drop_duplicates().sort_values('Subregion').head()\n"
   ]
  },
  {
   "cell_type": "code",
   "execution_count": 25,
   "id": "ce9655de",
   "metadata": {},
   "outputs": [
    {
     "data": {
      "text/plain": [
       "Index(['treatment_type', 'Subregion', 'Capacity', 'cluster', 'Lat', 'Lon',\n",
       "       'AdjustedCapacity', 'Population'],\n",
       "      dtype='object')"
      ]
     },
     "execution_count": 25,
     "metadata": {},
     "output_type": "execute_result"
    }
   ],
   "source": [
    "wwtp_enriched.columns\n"
   ]
  },
  {
   "cell_type": "code",
   "execution_count": 26,
   "id": "9a622ad7",
   "metadata": {},
   "outputs": [
    {
     "data": {
      "text/html": [
       "<div>\n",
       "<style scoped>\n",
       "    .dataframe tbody tr th:only-of-type {\n",
       "        vertical-align: middle;\n",
       "    }\n",
       "\n",
       "    .dataframe tbody tr th {\n",
       "        vertical-align: top;\n",
       "    }\n",
       "\n",
       "    .dataframe thead tr th {\n",
       "        text-align: left;\n",
       "    }\n",
       "\n",
       "    .dataframe thead tr:last-of-type th {\n",
       "        text-align: right;\n",
       "    }\n",
       "</style>\n",
       "<table border=\"1\" class=\"dataframe\">\n",
       "  <thead>\n",
       "    <tr>\n",
       "      <th></th>\n",
       "      <th colspan=\"4\" halign=\"left\">Population</th>\n",
       "      <th colspan=\"5\" halign=\"left\">Capacity</th>\n",
       "    </tr>\n",
       "    <tr>\n",
       "      <th></th>\n",
       "      <th>mean</th>\n",
       "      <th>min</th>\n",
       "      <th>max</th>\n",
       "      <th>sum</th>\n",
       "      <th>mean</th>\n",
       "      <th>min</th>\n",
       "      <th>max</th>\n",
       "      <th>sum</th>\n",
       "      <th>std</th>\n",
       "    </tr>\n",
       "    <tr>\n",
       "      <th>cluster</th>\n",
       "      <th></th>\n",
       "      <th></th>\n",
       "      <th></th>\n",
       "      <th></th>\n",
       "      <th></th>\n",
       "      <th></th>\n",
       "      <th></th>\n",
       "      <th></th>\n",
       "      <th></th>\n",
       "    </tr>\n",
       "  </thead>\n",
       "  <tbody>\n",
       "    <tr>\n",
       "      <th>0</th>\n",
       "      <td>42949.18408</td>\n",
       "      <td>7745.0</td>\n",
       "      <td>148658.0</td>\n",
       "      <td>8632786.0</td>\n",
       "      <td>569.721393</td>\n",
       "      <td>1.0000</td>\n",
       "      <td>5400.0</td>\n",
       "      <td>114514.0000</td>\n",
       "      <td>1283.902777</td>\n",
       "    </tr>\n",
       "    <tr>\n",
       "      <th>1</th>\n",
       "      <td>52434.75000</td>\n",
       "      <td>28909.0</td>\n",
       "      <td>105983.0</td>\n",
       "      <td>4404519.0</td>\n",
       "      <td>1827.827471</td>\n",
       "      <td>0.7923</td>\n",
       "      <td>12000.0</td>\n",
       "      <td>153537.5076</td>\n",
       "      <td>4186.681668</td>\n",
       "    </tr>\n",
       "    <tr>\n",
       "      <th>2</th>\n",
       "      <td>52434.75000</td>\n",
       "      <td>28909.0</td>\n",
       "      <td>105983.0</td>\n",
       "      <td>629217.0</td>\n",
       "      <td>33000.000000</td>\n",
       "      <td>33000.0000</td>\n",
       "      <td>33000.0</td>\n",
       "      <td>396000.0000</td>\n",
       "      <td>0.000000</td>\n",
       "    </tr>\n",
       "  </tbody>\n",
       "</table>\n",
       "</div>"
      ],
      "text/plain": [
       "          Population                                    Capacity              \\\n",
       "                mean      min       max        sum          mean         min   \n",
       "cluster                                                                        \n",
       "0        42949.18408   7745.0  148658.0  8632786.0    569.721393      1.0000   \n",
       "1        52434.75000  28909.0  105983.0  4404519.0   1827.827471      0.7923   \n",
       "2        52434.75000  28909.0  105983.0   629217.0  33000.000000  33000.0000   \n",
       "\n",
       "                                            \n",
       "             max          sum          std  \n",
       "cluster                                     \n",
       "0         5400.0  114514.0000  1283.902777  \n",
       "1        12000.0  153537.5076  4186.681668  \n",
       "2        33000.0  396000.0000     0.000000  "
      ]
     },
     "execution_count": 26,
     "metadata": {},
     "output_type": "execute_result"
    }
   ],
   "source": [
    "# Population + Capacity summary per cluster\n",
    "wwtp_enriched.groupby('cluster').agg({\n",
    "    'Population': ['mean', 'min', 'max', 'sum'],\n",
    "    'Capacity': ['mean', 'min', 'max', 'sum', 'std']\n",
    "})\n"
   ]
  },
  {
   "cell_type": "code",
   "execution_count": 28,
   "id": "af574c09",
   "metadata": {},
   "outputs": [
    {
     "name": "stderr",
     "output_type": "stream",
     "text": [
      "<ipython-input-28-912d0cf06d49>:11: DeprecationWarning:\n",
      "\n",
      "*scatter_mapbox* is deprecated! Use *scatter_map* instead. Learn more at: https://plotly.com/python/mapbox-to-maplibre/\n",
      "\n"
     ]
    },
    {
     "data": {
      "application/vnd.plotly.v1+json": {
       "config": {
        "plotlyServerURL": "https://plot.ly"
       },
       "data": [
        {
         "customdata": {
          "bdata": "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",
          "dtype": "f8",
          "shape": "297, 4"
         },
         "hovertemplate": "<b>%{hovertext}</b><br><br>AdjustedPopulation=%{marker.size}<br>Subregion=%{text}<br>Capacity=%{customdata[0]}<br>Population=%{customdata[1]}<br>cluster=%{marker.color}<extra></extra>",
         "hovertext": [
          "Buikwe",
          "Buikwe",
          "Buikwe",
          "Buikwe",
          "Buikwe",
          "Buikwe",
          "Buikwe",
          "Buikwe",
          "Buikwe",
          "Buikwe",
          "Buikwe",
          "Buikwe",
          "Buvuma",
          "Buvuma",
          "Buvuma",
          "Buvuma",
          "Buvuma",
          "Buvuma",
          "Buvuma",
          "Buvuma",
          "Buvuma",
          "Jinja",
          "Jinja",
          "Jinja",
          "Jinja",
          "Jinja",
          "Jinja",
          "Jinja",
          "Jinja",
          "Jinja",
          "Jinja",
          "Jinja",
          "Jinja",
          "Jinja",
          "Jinja",
          "Jinja",
          "Jinja",
          "Jinja",
          "Jinja",
          "Jinja",
          "Jinja",
          "Jinja",
          "Jinja",
          "Jinja",
          "Jinja",
          "Buikwe",
          "Buikwe",
          "Buikwe",
          "Buikwe",
          "Buikwe",
          "Buikwe",
          "Buikwe",
          "Buikwe",
          "Buikwe",
          "Buikwe",
          "Buikwe",
          "Buikwe",
          "Buvuma",
          "Buvuma",
          "Buvuma",
          "Buvuma",
          "Buvuma",
          "Buvuma",
          "Buvuma",
          "Buvuma",
          "Buvuma",
          "Jinja",
          "Jinja",
          "Jinja",
          "Jinja",
          "Jinja",
          "Jinja",
          "Jinja",
          "Jinja",
          "Jinja",
          "Jinja",
          "Jinja",
          "Jinja",
          "Buikwe",
          "Buikwe",
          "Buikwe",
          "Buikwe",
          "Buikwe",
          "Buikwe",
          "Buikwe",
          "Buikwe",
          "Buikwe",
          "Buikwe",
          "Buikwe",
          "Buikwe",
          "Mayuge",
          "Mayuge",
          "Mayuge",
          "Mayuge",
          "Mayuge",
          "Mayuge",
          "Mayuge",
          "Mayuge",
          "Mayuge",
          "Mayuge",
          "Mayuge",
          "Mayuge",
          "Mayuge",
          "Mayuge",
          "Jinja",
          "Jinja",
          "Jinja",
          "Jinja",
          "Jinja",
          "Jinja",
          "Jinja",
          "Jinja",
          "Jinja",
          "Jinja",
          "Jinja",
          "Jinja",
          "Jinja",
          "Jinja",
          "Jinja",
          "Jinja",
          "Jinja",
          "Jinja",
          "Jinja",
          "Jinja",
          "Jinja",
          "Jinja",
          "Jinja",
          "Jinja",
          "Buvuma",
          "Buvuma",
          "Buvuma",
          "Buvuma",
          "Buvuma",
          "Buvuma",
          "Buvuma",
          "Buvuma",
          "Buvuma",
          "Buikwe",
          "Buikwe",
          "Buikwe",
          "Buikwe",
          "Buikwe",
          "Buikwe",
          "Buikwe",
          "Buikwe",
          "Buikwe",
          "Buikwe",
          "Buikwe",
          "Buikwe",
          "Mayuge",
          "Mayuge",
          "Mayuge",
          "Mayuge",
          "Mayuge",
          "Mayuge",
          "Mayuge",
          "Mayuge",
          "Mayuge",
          "Mayuge",
          "Mayuge",
          "Mayuge",
          "Mayuge",
          "Mayuge",
          "Jinja",
          "Jinja",
          "Jinja",
          "Jinja",
          "Jinja",
          "Jinja",
          "Jinja",
          "Jinja",
          "Jinja",
          "Jinja",
          "Jinja",
          "Jinja",
          "Mayuge",
          "Mayuge",
          "Mayuge",
          "Mayuge",
          "Mayuge",
          "Mayuge",
          "Mayuge",
          "Mayuge",
          "Mayuge",
          "Mayuge",
          "Mayuge",
          "Mayuge",
          "Mayuge",
          "Mayuge",
          "Buikwe",
          "Buikwe",
          "Buikwe",
          "Buikwe",
          "Buikwe",
          "Buikwe",
          "Buikwe",
          "Buikwe",
          "Buikwe",
          "Buikwe",
          "Buikwe",
          "Buikwe",
          "Buvuma",
          "Buvuma",
          "Buvuma",
          "Buvuma",
          "Buvuma",
          "Buvuma",
          "Buvuma",
          "Buvuma",
          "Buvuma",
          "Mayuge",
          "Mayuge",
          "Mayuge",
          "Mayuge",
          "Mayuge",
          "Mayuge",
          "Mayuge",
          "Mayuge",
          "Mayuge",
          "Mayuge",
          "Mayuge",
          "Mayuge",
          "Mayuge",
          "Mayuge",
          "Jinja",
          "Jinja",
          "Jinja",
          "Jinja",
          "Jinja",
          "Jinja",
          "Jinja",
          "Jinja",
          "Jinja",
          "Jinja",
          "Jinja",
          "Jinja",
          "Mayuge",
          "Mayuge",
          "Mayuge",
          "Mayuge",
          "Mayuge",
          "Mayuge",
          "Mayuge",
          "Mayuge",
          "Mayuge",
          "Mayuge",
          "Mayuge",
          "Mayuge",
          "Mayuge",
          "Mayuge",
          "Buvuma",
          "Buvuma",
          "Buvuma",
          "Buvuma",
          "Buvuma",
          "Buvuma",
          "Buvuma",
          "Buvuma",
          "Buvuma",
          "Mayuge",
          "Mayuge",
          "Mayuge",
          "Mayuge",
          "Mayuge",
          "Mayuge",
          "Mayuge",
          "Mayuge",
          "Mayuge",
          "Mayuge",
          "Mayuge",
          "Mayuge",
          "Mayuge",
          "Mayuge",
          "Jinja",
          "Jinja",
          "Jinja",
          "Jinja",
          "Jinja",
          "Jinja",
          "Jinja",
          "Jinja",
          "Jinja",
          "Jinja",
          "Jinja",
          "Jinja",
          "Buikwe",
          "Buikwe",
          "Buikwe",
          "Buikwe",
          "Buikwe",
          "Buikwe",
          "Buikwe",
          "Buikwe",
          "Buikwe",
          "Buikwe",
          "Buikwe",
          "Buikwe"
         ],
         "lat": {
          "bdata": "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",
          "dtype": "f8"
         },
         "legendgroup": "",
         "lon": {
          "bdata": "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",
          "dtype": "f8"
         },
         "marker": {
          "color": {
           "bdata": "AAAAAAAAAAAAAAAAAAAAAAAAAAAAAAAAAAAAAAAAAAAAAAAAAAAAAAAAAAAAAAAAAAAAAAAAAAAAAAAAAAAAAAAAAAAAAAAAAAAAAAAAAAAAAAAAAQAAAAEAAAABAAAAAQAAAAEAAAABAAAAAQAAAAEAAAABAAAAAQAAAAEAAAABAAAAAQAAAAEAAAABAAAAAQAAAAEAAAABAAAAAQAAAAEAAAABAAAAAQAAAAEAAAABAAAAAAAAAAAAAAAAAAAAAAAAAAAAAAAAAAAAAAAAAAAAAAAAAAAAAAAAAAAAAAAAAAAAAAAAAAAAAAAAAAAAAAAAAAAAAAAAAAAAAAAAAAAAAAAAAAAAAgAAAAIAAAACAAAAAgAAAAIAAAACAAAAAgAAAAIAAAACAAAAAgAAAAIAAAACAAAAAAAAAAAAAAAAAAAAAAAAAAAAAAAAAAAAAAAAAAAAAAAAAAAAAAAAAAAAAAAAAAAAAAAAAAAAAAAAAAAAAAAAAAAAAAAAAAAAAAAAAAAAAAAAAAAAAAAAAAAAAAAAAAAAAAAAAAAAAAABAAAAAQAAAAEAAAABAAAAAQAAAAEAAAABAAAAAQAAAAEAAAABAAAAAQAAAAEAAAABAAAAAQAAAAEAAAABAAAAAQAAAAEAAAABAAAAAQAAAAEAAAABAAAAAQAAAAEAAAAAAAAAAAAAAAAAAAAAAAAAAAAAAAAAAAAAAAAAAAAAAAAAAAAAAAAAAAAAAAAAAAAAAAAAAAAAAAAAAAAAAAAAAAAAAAAAAAAAAAAAAAAAAAAAAAAAAAAAAAAAAAAAAAAAAAAAAAAAAAAAAAAAAAAAAAAAAAAAAAAAAAAAAAAAAAAAAAAAAAAAAAAAAAEAAAABAAAAAQAAAAEAAAABAAAAAQAAAAEAAAABAAAAAQAAAAEAAAABAAAAAQAAAAAAAAAAAAAAAAAAAAAAAAAAAAAAAAAAAAAAAAAAAAAAAAAAAAAAAAAAAAAAAAAAAAAAAAAAAAAAAAAAAAAAAAAAAAAAAAAAAAAAAAAAAAAAAAAAAAAAAAAAAAAAAAAAAAAAAAAAAAAAAAAAAAAAAAAAAAAAAAAAAAAAAAAAAAAAAAAAAAAAAAAAAAAAAAAAAAAAAAAAAAAAAAAAAAAAAAAAAAAAAAAAAAAAAAAAAAAAAAAAAAAAAAAAAAAAAAAAAAAAAAABAAAAAQAAAAEAAAABAAAAAQAAAAEAAAABAAAAAQAAAAEAAAABAAAAAQAAAAEAAAAAAAAAAAAAAAAAAAAAAAAAAAAAAAAAAAAAAAAAAAAAAAAAAAAAAAAAAAAAAAAAAAAAAAAAAAAAAAAAAAAAAAAAAAAAAAAAAAAAAAAAAAAAAAAAAAAAAAAAAAAAAAAAAAAAAAAAAAAAAAAAAAAAAAAAAAAAAAAAAAAAAAAAAAAAAAAAAAAAAAAAAAAAAAAAAAAAAAAAAQAAAAEAAAABAAAAAQAAAAEAAAABAAAAAQAAAAEAAAABAAAAAQAAAAEAAAABAAAAAAAAAAAAAAAAAAAAAAAAAAAAAAAAAAAAAAAAAAAAAAAAAAAAAAAAAAAAAAAAAAAA",
           "dtype": "i4"
          },
          "coloraxis": "coloraxis",
          "size": {
           "bdata": "AAAAAABq+EAAAAAAAGr4QAAAAAAAavhAAAAAAABq+EAAAAAAAGr4QAAAAAAAavhAAAAAAABq+EAAAAAAAGr4QAAAAAAAavhAAAAAALA6+0AAAAAAAGr4QAAAAAAAavhAAAAAAABq+EAAAAAAAGr4QAAAAAAAavhAAAAAAABq+EAAAAAAAGr4QAAAAAAAavhAAAAAAABq+EAAAAAAAGr4QAAAAAAAavhAAAAAAABq+EAAAAAAAGr4QAAAAAAAavhAAAAAAPDf+UAAAAAAAGr4QAAAAAAAavhAAAAAAABq+EAAAAAAAGr4QAAAAAAAavhAAAAAAABq+EAAAAAAAGr4QAAAAAAAavhAAAAAAABq+EAAAAAAAGr4QAAAAAAAavhAAAAAAPDf+UAAAAAAAGr4QAAAAAAAavhAAAAAAABq+EAAAAAAAGr4QAAAAAAAavhAAAAAAABq+EAAAAAAAGr4QAAAAAAAavhAAAAAAABq+EAAAAAAAGr4QAAAAAAAavhAAAAAAABq+EAAAAAAAGr4QAAAAAAAavhAAAAAAABq+EAAAAAAAGr4QAAAAAAAavhAAAAAALA6+0AAAAAAAGr4QAAAAAAAavhAAAAAAABq+EAAAAAAAGr4QAAAAAAAavhAAAAAAABq+EAAAAAAAGr4QAAAAAAAavhAAAAAAABq+EAAAAAAAGr4QAAAAAAAavhAAAAAAABq+EAAAAAAAGr4QAAAAAAAavhAAAAAAPDf+UAAAAAAAGr4QAAAAAAAavhAAAAAAABq+EAAAAAAAGr4QAAAAAAAavhAAAAAAABq+EAAAAAAAGr4QAAAAAAAavhAAAAAAABq+EAAAAAAAGr4QAAAAAAAavhAAAAAAABq+EAAAAAAAGr4QAAAAAAAavhAAAAAAABq+EAAAAAAAGr4QAAAAAAAavhAAAAAALA6+0AAAAAAAGr4QAAAAAAAavhAAAAAAABq+EAAAAAAAGr4QAAAAAAAavhAAAAAAABq+EAAAAAAAGr4QAAAAAAAavhAAAAAAABq+EAAAAAAAGr4QAAAAAAAavhAAAAAAABq+EAAAAAAkCUCQQAAAAAAavhAAAAAAABq+EAAAAAAAGr4QAAAAAAAavhAAAAAAABq+EAAAAAAAGr4QAAAAADw3/lAAAAAAABq+EAAAAAAAGr4QAAAAAAAavhAAAAAAABq+EAAAAAAAGr4QAAAAAAAavhAAAAAAABq+EAAAAAAAGr4QAAAAAAAavhAAAAAAABq+EAAAAAAAGr4QAAAAADw3/lAAAAAAABq+EAAAAAAAGr4QAAAAAAAavhAAAAAAABq+EAAAAAAAGr4QAAAAAAAavhAAAAAAABq+EAAAAAAAGr4QAAAAAAAavhAAAAAAABq+EAAAAAAAGr4QAAAAAAAavhAAAAAAABq+EAAAAAAAGr4QAAAAAAAavhAAAAAAABq+EAAAAAAAGr4QAAAAAAAavhAAAAAAABq+EAAAAAAAGr4QAAAAAAAavhAAAAAAABq+EAAAAAAAGr4QAAAAAAAavhAAAAAAABq+EAAAAAAAGr4QAAAAACwOvtAAAAAAABq+EAAAAAAAGr4QAAAAAAAavhAAAAAAABq+EAAAAAAAGr4QAAAAAAAavhAAAAAAABq+EAAAAAAAGr4QAAAAAAAavhAAAAAAABq+EAAAAAAAGr4QAAAAAAAavhAAAAAAJAlAkEAAAAAAGr4QAAAAAAAavhAAAAAAABq+EAAAAAAAGr4QAAAAAAAavhAAAAAAABq+EAAAAAA8N/5QAAAAAAAavhAAAAAAABq+EAAAAAAAGr4QAAAAAAAavhAAAAAAABq+EAAAAAAAGr4QAAAAAAAavhAAAAAAABq+EAAAAAAAGr4QAAAAAAAavhAAAAAAABq+EAAAAAAAGr4QAAAAAAAavhAAAAAAABq+EAAAAAAAGr4QAAAAAAAavhAAAAAAABq+EAAAAAAAGr4QAAAAACQJQJBAAAAAABq+EAAAAAAAGr4QAAAAAAAavhAAAAAAABq+EAAAAAAAGr4QAAAAAAAavhAAAAAAABq+EAAAAAAAGr4QAAAAAAAavhAAAAAAABq+EAAAAAAAGr4QAAAAAAAavhAAAAAALA6+0AAAAAAAGr4QAAAAAAAavhAAAAAAABq+EAAAAAAAGr4QAAAAAAAavhAAAAAAABq+EAAAAAAAGr4QAAAAAAAavhAAAAAAABq+EAAAAAAAGr4QAAAAAAAavhAAAAAAABq+EAAAAAAAGr4QAAAAAAAavhAAAAAAABq+EAAAAAAAGr4QAAAAAAAavhAAAAAAABq+EAAAAAAAGr4QAAAAAAAavhAAAAAAABq+EAAAAAAkCUCQQAAAAAAavhAAAAAAABq+EAAAAAAAGr4QAAAAAAAavhAAAAAAABq+EAAAAAAAGr4QAAAAADw3/lAAAAAAABq+EAAAAAAAGr4QAAAAAAAavhAAAAAAABq+EAAAAAAAGr4QAAAAAAAavhAAAAAAABq+EAAAAAAAGr4QAAAAAAAavhAAAAAAABq+EAAAAAAAGr4QAAAAAAAavhAAAAAAABq+EAAAAAAAGr4QAAAAAAAavhAAAAAAABq+EAAAAAAAGr4QAAAAAAAavhAAAAAAJAlAkEAAAAAAGr4QAAAAAAAavhAAAAAAABq+EAAAAAAAGr4QAAAAAAAavhAAAAAAABq+EAAAAAAAGr4QAAAAAAAavhAAAAAAABq+EAAAAAAAGr4QAAAAAAAavhAAAAAAABq+EAAAAAAAGr4QAAAAAAAavhAAAAAAABq+EAAAAAAAGr4QAAAAAAAavhAAAAAAABq+EAAAAAAAGr4QAAAAAAAavhAAAAAAABq+EAAAAAAAGr4QAAAAACQJQJBAAAAAABq+EAAAAAAAGr4QAAAAAAAavhAAAAAAABq+EAAAAAAAGr4QAAAAAAAavhAAAAAAPDf+UAAAAAAAGr4QAAAAAAAavhAAAAAAABq+EAAAAAAAGr4QAAAAAAAavhAAAAAAABq+EAAAAAAAGr4QAAAAAAAavhAAAAAAABq+EAAAAAAAGr4QAAAAAAAavhAAAAAAABq+EAAAAAAAGr4QAAAAAAAavhAAAAAAABq+EAAAAAAAGr4QAAAAAAAavhAAAAAALA6+0AAAAAAAGr4QAAAAAAAavhA",
           "dtype": "f8"
          },
          "sizemode": "area",
          "sizeref": 92.91125
         },
         "mode": "markers+text",
         "name": "",
         "showlegend": false,
         "subplot": "mapbox",
         "text": [
          "Buikwe",
          "Buikwe",
          "Buikwe",
          "Buikwe",
          "Buikwe",
          "Buikwe",
          "Buikwe",
          "Buikwe",
          "Buikwe",
          "Buikwe",
          "Buikwe",
          "Buikwe",
          "Buvuma",
          "Buvuma",
          "Buvuma",
          "Buvuma",
          "Buvuma",
          "Buvuma",
          "Buvuma",
          "Buvuma",
          "Buvuma",
          "Jinja",
          "Jinja",
          "Jinja",
          "Jinja",
          "Jinja",
          "Jinja",
          "Jinja",
          "Jinja",
          "Jinja",
          "Jinja",
          "Jinja",
          "Jinja",
          "Jinja",
          "Jinja",
          "Jinja",
          "Jinja",
          "Jinja",
          "Jinja",
          "Jinja",
          "Jinja",
          "Jinja",
          "Jinja",
          "Jinja",
          "Jinja",
          "Buikwe",
          "Buikwe",
          "Buikwe",
          "Buikwe",
          "Buikwe",
          "Buikwe",
          "Buikwe",
          "Buikwe",
          "Buikwe",
          "Buikwe",
          "Buikwe",
          "Buikwe",
          "Buvuma",
          "Buvuma",
          "Buvuma",
          "Buvuma",
          "Buvuma",
          "Buvuma",
          "Buvuma",
          "Buvuma",
          "Buvuma",
          "Jinja",
          "Jinja",
          "Jinja",
          "Jinja",
          "Jinja",
          "Jinja",
          "Jinja",
          "Jinja",
          "Jinja",
          "Jinja",
          "Jinja",
          "Jinja",
          "Buikwe",
          "Buikwe",
          "Buikwe",
          "Buikwe",
          "Buikwe",
          "Buikwe",
          "Buikwe",
          "Buikwe",
          "Buikwe",
          "Buikwe",
          "Buikwe",
          "Buikwe",
          "Mayuge",
          "Mayuge",
          "Mayuge",
          "Mayuge",
          "Mayuge",
          "Mayuge",
          "Mayuge",
          "Mayuge",
          "Mayuge",
          "Mayuge",
          "Mayuge",
          "Mayuge",
          "Mayuge",
          "Mayuge",
          "Jinja",
          "Jinja",
          "Jinja",
          "Jinja",
          "Jinja",
          "Jinja",
          "Jinja",
          "Jinja",
          "Jinja",
          "Jinja",
          "Jinja",
          "Jinja",
          "Jinja",
          "Jinja",
          "Jinja",
          "Jinja",
          "Jinja",
          "Jinja",
          "Jinja",
          "Jinja",
          "Jinja",
          "Jinja",
          "Jinja",
          "Jinja",
          "Buvuma",
          "Buvuma",
          "Buvuma",
          "Buvuma",
          "Buvuma",
          "Buvuma",
          "Buvuma",
          "Buvuma",
          "Buvuma",
          "Buikwe",
          "Buikwe",
          "Buikwe",
          "Buikwe",
          "Buikwe",
          "Buikwe",
          "Buikwe",
          "Buikwe",
          "Buikwe",
          "Buikwe",
          "Buikwe",
          "Buikwe",
          "Mayuge",
          "Mayuge",
          "Mayuge",
          "Mayuge",
          "Mayuge",
          "Mayuge",
          "Mayuge",
          "Mayuge",
          "Mayuge",
          "Mayuge",
          "Mayuge",
          "Mayuge",
          "Mayuge",
          "Mayuge",
          "Jinja",
          "Jinja",
          "Jinja",
          "Jinja",
          "Jinja",
          "Jinja",
          "Jinja",
          "Jinja",
          "Jinja",
          "Jinja",
          "Jinja",
          "Jinja",
          "Mayuge",
          "Mayuge",
          "Mayuge",
          "Mayuge",
          "Mayuge",
          "Mayuge",
          "Mayuge",
          "Mayuge",
          "Mayuge",
          "Mayuge",
          "Mayuge",
          "Mayuge",
          "Mayuge",
          "Mayuge",
          "Buikwe",
          "Buikwe",
          "Buikwe",
          "Buikwe",
          "Buikwe",
          "Buikwe",
          "Buikwe",
          "Buikwe",
          "Buikwe",
          "Buikwe",
          "Buikwe",
          "Buikwe",
          "Buvuma",
          "Buvuma",
          "Buvuma",
          "Buvuma",
          "Buvuma",
          "Buvuma",
          "Buvuma",
          "Buvuma",
          "Buvuma",
          "Mayuge",
          "Mayuge",
          "Mayuge",
          "Mayuge",
          "Mayuge",
          "Mayuge",
          "Mayuge",
          "Mayuge",
          "Mayuge",
          "Mayuge",
          "Mayuge",
          "Mayuge",
          "Mayuge",
          "Mayuge",
          "Jinja",
          "Jinja",
          "Jinja",
          "Jinja",
          "Jinja",
          "Jinja",
          "Jinja",
          "Jinja",
          "Jinja",
          "Jinja",
          "Jinja",
          "Jinja",
          "Mayuge",
          "Mayuge",
          "Mayuge",
          "Mayuge",
          "Mayuge",
          "Mayuge",
          "Mayuge",
          "Mayuge",
          "Mayuge",
          "Mayuge",
          "Mayuge",
          "Mayuge",
          "Mayuge",
          "Mayuge",
          "Buvuma",
          "Buvuma",
          "Buvuma",
          "Buvuma",
          "Buvuma",
          "Buvuma",
          "Buvuma",
          "Buvuma",
          "Buvuma",
          "Mayuge",
          "Mayuge",
          "Mayuge",
          "Mayuge",
          "Mayuge",
          "Mayuge",
          "Mayuge",
          "Mayuge",
          "Mayuge",
          "Mayuge",
          "Mayuge",
          "Mayuge",
          "Mayuge",
          "Mayuge",
          "Jinja",
          "Jinja",
          "Jinja",
          "Jinja",
          "Jinja",
          "Jinja",
          "Jinja",
          "Jinja",
          "Jinja",
          "Jinja",
          "Jinja",
          "Jinja",
          "Buikwe",
          "Buikwe",
          "Buikwe",
          "Buikwe",
          "Buikwe",
          "Buikwe",
          "Buikwe",
          "Buikwe",
          "Buikwe",
          "Buikwe",
          "Buikwe",
          "Buikwe"
         ],
         "type": "scattermapbox"
        }
       ],
       "layout": {
        "coloraxis": {
         "colorbar": {
          "title": {
           "text": "cluster"
          }
         },
         "colorscale": [
          [
           0,
           "#440154"
          ],
          [
           0.1111111111111111,
           "#482878"
          ],
          [
           0.2222222222222222,
           "#3e4989"
          ],
          [
           0.3333333333333333,
           "#31688e"
          ],
          [
           0.4444444444444444,
           "#26828e"
          ],
          [
           0.5555555555555556,
           "#1f9e89"
          ],
          [
           0.6666666666666666,
           "#35b779"
          ],
          [
           0.7777777777777778,
           "#6ece58"
          ],
          [
           0.8888888888888888,
           "#b5de2b"
          ],
          [
           1,
           "#fde725"
          ]
         ]
        },
        "height": 600,
        "legend": {
         "itemsizing": "constant",
         "tracegroupgap": 0
        },
        "mapbox": {
         "center": {
          "lat": 0.41732655286195286,
          "lon": 32.098461544781145
         },
         "domain": {
          "x": [
           0,
           1
          ],
          "y": [
           0,
           1
          ]
         },
         "style": "carto-darkmatter",
         "zoom": 6
        },
        "margin": {
         "b": 0,
         "l": 0,
         "r": 0,
         "t": 40
        },
        "template": {
         "data": {
          "bar": [
           {
            "error_x": {
             "color": "#2a3f5f"
            },
            "error_y": {
             "color": "#2a3f5f"
            },
            "marker": {
             "line": {
              "color": "#E5ECF6",
              "width": 0.5
             },
             "pattern": {
              "fillmode": "overlay",
              "size": 10,
              "solidity": 0.2
             }
            },
            "type": "bar"
           }
          ],
          "barpolar": [
           {
            "marker": {
             "line": {
              "color": "#E5ECF6",
              "width": 0.5
             },
             "pattern": {
              "fillmode": "overlay",
              "size": 10,
              "solidity": 0.2
             }
            },
            "type": "barpolar"
           }
          ],
          "carpet": [
           {
            "aaxis": {
             "endlinecolor": "#2a3f5f",
             "gridcolor": "white",
             "linecolor": "white",
             "minorgridcolor": "white",
             "startlinecolor": "#2a3f5f"
            },
            "baxis": {
             "endlinecolor": "#2a3f5f",
             "gridcolor": "white",
             "linecolor": "white",
             "minorgridcolor": "white",
             "startlinecolor": "#2a3f5f"
            },
            "type": "carpet"
           }
          ],
          "choropleth": [
           {
            "colorbar": {
             "outlinewidth": 0,
             "ticks": ""
            },
            "type": "choropleth"
           }
          ],
          "contour": [
           {
            "colorbar": {
             "outlinewidth": 0,
             "ticks": ""
            },
            "colorscale": [
             [
              0,
              "#0d0887"
             ],
             [
              0.1111111111111111,
              "#46039f"
             ],
             [
              0.2222222222222222,
              "#7201a8"
             ],
             [
              0.3333333333333333,
              "#9c179e"
             ],
             [
              0.4444444444444444,
              "#bd3786"
             ],
             [
              0.5555555555555556,
              "#d8576b"
             ],
             [
              0.6666666666666666,
              "#ed7953"
             ],
             [
              0.7777777777777778,
              "#fb9f3a"
             ],
             [
              0.8888888888888888,
              "#fdca26"
             ],
             [
              1,
              "#f0f921"
             ]
            ],
            "type": "contour"
           }
          ],
          "contourcarpet": [
           {
            "colorbar": {
             "outlinewidth": 0,
             "ticks": ""
            },
            "type": "contourcarpet"
           }
          ],
          "heatmap": [
           {
            "colorbar": {
             "outlinewidth": 0,
             "ticks": ""
            },
            "colorscale": [
             [
              0,
              "#0d0887"
             ],
             [
              0.1111111111111111,
              "#46039f"
             ],
             [
              0.2222222222222222,
              "#7201a8"
             ],
             [
              0.3333333333333333,
              "#9c179e"
             ],
             [
              0.4444444444444444,
              "#bd3786"
             ],
             [
              0.5555555555555556,
              "#d8576b"
             ],
             [
              0.6666666666666666,
              "#ed7953"
             ],
             [
              0.7777777777777778,
              "#fb9f3a"
             ],
             [
              0.8888888888888888,
              "#fdca26"
             ],
             [
              1,
              "#f0f921"
             ]
            ],
            "type": "heatmap"
           }
          ],
          "histogram": [
           {
            "marker": {
             "pattern": {
              "fillmode": "overlay",
              "size": 10,
              "solidity": 0.2
             }
            },
            "type": "histogram"
           }
          ],
          "histogram2d": [
           {
            "colorbar": {
             "outlinewidth": 0,
             "ticks": ""
            },
            "colorscale": [
             [
              0,
              "#0d0887"
             ],
             [
              0.1111111111111111,
              "#46039f"
             ],
             [
              0.2222222222222222,
              "#7201a8"
             ],
             [
              0.3333333333333333,
              "#9c179e"
             ],
             [
              0.4444444444444444,
              "#bd3786"
             ],
             [
              0.5555555555555556,
              "#d8576b"
             ],
             [
              0.6666666666666666,
              "#ed7953"
             ],
             [
              0.7777777777777778,
              "#fb9f3a"
             ],
             [
              0.8888888888888888,
              "#fdca26"
             ],
             [
              1,
              "#f0f921"
             ]
            ],
            "type": "histogram2d"
           }
          ],
          "histogram2dcontour": [
           {
            "colorbar": {
             "outlinewidth": 0,
             "ticks": ""
            },
            "colorscale": [
             [
              0,
              "#0d0887"
             ],
             [
              0.1111111111111111,
              "#46039f"
             ],
             [
              0.2222222222222222,
              "#7201a8"
             ],
             [
              0.3333333333333333,
              "#9c179e"
             ],
             [
              0.4444444444444444,
              "#bd3786"
             ],
             [
              0.5555555555555556,
              "#d8576b"
             ],
             [
              0.6666666666666666,
              "#ed7953"
             ],
             [
              0.7777777777777778,
              "#fb9f3a"
             ],
             [
              0.8888888888888888,
              "#fdca26"
             ],
             [
              1,
              "#f0f921"
             ]
            ],
            "type": "histogram2dcontour"
           }
          ],
          "mesh3d": [
           {
            "colorbar": {
             "outlinewidth": 0,
             "ticks": ""
            },
            "type": "mesh3d"
           }
          ],
          "parcoords": [
           {
            "line": {
             "colorbar": {
              "outlinewidth": 0,
              "ticks": ""
             }
            },
            "type": "parcoords"
           }
          ],
          "pie": [
           {
            "automargin": true,
            "type": "pie"
           }
          ],
          "scatter": [
           {
            "fillpattern": {
             "fillmode": "overlay",
             "size": 10,
             "solidity": 0.2
            },
            "type": "scatter"
           }
          ],
          "scatter3d": [
           {
            "line": {
             "colorbar": {
              "outlinewidth": 0,
              "ticks": ""
             }
            },
            "marker": {
             "colorbar": {
              "outlinewidth": 0,
              "ticks": ""
             }
            },
            "type": "scatter3d"
           }
          ],
          "scattercarpet": [
           {
            "marker": {
             "colorbar": {
              "outlinewidth": 0,
              "ticks": ""
             }
            },
            "type": "scattercarpet"
           }
          ],
          "scattergeo": [
           {
            "marker": {
             "colorbar": {
              "outlinewidth": 0,
              "ticks": ""
             }
            },
            "type": "scattergeo"
           }
          ],
          "scattergl": [
           {
            "marker": {
             "colorbar": {
              "outlinewidth": 0,
              "ticks": ""
             }
            },
            "type": "scattergl"
           }
          ],
          "scattermap": [
           {
            "marker": {
             "colorbar": {
              "outlinewidth": 0,
              "ticks": ""
             }
            },
            "type": "scattermap"
           }
          ],
          "scattermapbox": [
           {
            "marker": {
             "colorbar": {
              "outlinewidth": 0,
              "ticks": ""
             }
            },
            "type": "scattermapbox"
           }
          ],
          "scatterpolar": [
           {
            "marker": {
             "colorbar": {
              "outlinewidth": 0,
              "ticks": ""
             }
            },
            "type": "scatterpolar"
           }
          ],
          "scatterpolargl": [
           {
            "marker": {
             "colorbar": {
              "outlinewidth": 0,
              "ticks": ""
             }
            },
            "type": "scatterpolargl"
           }
          ],
          "scatterternary": [
           {
            "marker": {
             "colorbar": {
              "outlinewidth": 0,
              "ticks": ""
             }
            },
            "type": "scatterternary"
           }
          ],
          "surface": [
           {
            "colorbar": {
             "outlinewidth": 0,
             "ticks": ""
            },
            "colorscale": [
             [
              0,
              "#0d0887"
             ],
             [
              0.1111111111111111,
              "#46039f"
             ],
             [
              0.2222222222222222,
              "#7201a8"
             ],
             [
              0.3333333333333333,
              "#9c179e"
             ],
             [
              0.4444444444444444,
              "#bd3786"
             ],
             [
              0.5555555555555556,
              "#d8576b"
             ],
             [
              0.6666666666666666,
              "#ed7953"
             ],
             [
              0.7777777777777778,
              "#fb9f3a"
             ],
             [
              0.8888888888888888,
              "#fdca26"
             ],
             [
              1,
              "#f0f921"
             ]
            ],
            "type": "surface"
           }
          ],
          "table": [
           {
            "cells": {
             "fill": {
              "color": "#EBF0F8"
             },
             "line": {
              "color": "white"
             }
            },
            "header": {
             "fill": {
              "color": "#C8D4E3"
             },
             "line": {
              "color": "white"
             }
            },
            "type": "table"
           }
          ]
         },
         "layout": {
          "annotationdefaults": {
           "arrowcolor": "#2a3f5f",
           "arrowhead": 0,
           "arrowwidth": 1
          },
          "autotypenumbers": "strict",
          "coloraxis": {
           "colorbar": {
            "outlinewidth": 0,
            "ticks": ""
           }
          },
          "colorscale": {
           "diverging": [
            [
             0,
             "#8e0152"
            ],
            [
             0.1,
             "#c51b7d"
            ],
            [
             0.2,
             "#de77ae"
            ],
            [
             0.3,
             "#f1b6da"
            ],
            [
             0.4,
             "#fde0ef"
            ],
            [
             0.5,
             "#f7f7f7"
            ],
            [
             0.6,
             "#e6f5d0"
            ],
            [
             0.7,
             "#b8e186"
            ],
            [
             0.8,
             "#7fbc41"
            ],
            [
             0.9,
             "#4d9221"
            ],
            [
             1,
             "#276419"
            ]
           ],
           "sequential": [
            [
             0,
             "#0d0887"
            ],
            [
             0.1111111111111111,
             "#46039f"
            ],
            [
             0.2222222222222222,
             "#7201a8"
            ],
            [
             0.3333333333333333,
             "#9c179e"
            ],
            [
             0.4444444444444444,
             "#bd3786"
            ],
            [
             0.5555555555555556,
             "#d8576b"
            ],
            [
             0.6666666666666666,
             "#ed7953"
            ],
            [
             0.7777777777777778,
             "#fb9f3a"
            ],
            [
             0.8888888888888888,
             "#fdca26"
            ],
            [
             1,
             "#f0f921"
            ]
           ],
           "sequentialminus": [
            [
             0,
             "#0d0887"
            ],
            [
             0.1111111111111111,
             "#46039f"
            ],
            [
             0.2222222222222222,
             "#7201a8"
            ],
            [
             0.3333333333333333,
             "#9c179e"
            ],
            [
             0.4444444444444444,
             "#bd3786"
            ],
            [
             0.5555555555555556,
             "#d8576b"
            ],
            [
             0.6666666666666666,
             "#ed7953"
            ],
            [
             0.7777777777777778,
             "#fb9f3a"
            ],
            [
             0.8888888888888888,
             "#fdca26"
            ],
            [
             1,
             "#f0f921"
            ]
           ]
          },
          "colorway": [
           "#636efa",
           "#EF553B",
           "#00cc96",
           "#ab63fa",
           "#FFA15A",
           "#19d3f3",
           "#FF6692",
           "#B6E880",
           "#FF97FF",
           "#FECB52"
          ],
          "font": {
           "color": "#2a3f5f"
          },
          "geo": {
           "bgcolor": "white",
           "lakecolor": "white",
           "landcolor": "#E5ECF6",
           "showlakes": true,
           "showland": true,
           "subunitcolor": "white"
          },
          "hoverlabel": {
           "align": "left"
          },
          "hovermode": "closest",
          "mapbox": {
           "style": "light"
          },
          "paper_bgcolor": "white",
          "plot_bgcolor": "#E5ECF6",
          "polar": {
           "angularaxis": {
            "gridcolor": "white",
            "linecolor": "white",
            "ticks": ""
           },
           "bgcolor": "#E5ECF6",
           "radialaxis": {
            "gridcolor": "white",
            "linecolor": "white",
            "ticks": ""
           }
          },
          "scene": {
           "xaxis": {
            "backgroundcolor": "#E5ECF6",
            "gridcolor": "white",
            "gridwidth": 2,
            "linecolor": "white",
            "showbackground": true,
            "ticks": "",
            "zerolinecolor": "white"
           },
           "yaxis": {
            "backgroundcolor": "#E5ECF6",
            "gridcolor": "white",
            "gridwidth": 2,
            "linecolor": "white",
            "showbackground": true,
            "ticks": "",
            "zerolinecolor": "white"
           },
           "zaxis": {
            "backgroundcolor": "#E5ECF6",
            "gridcolor": "white",
            "gridwidth": 2,
            "linecolor": "white",
            "showbackground": true,
            "ticks": "",
            "zerolinecolor": "white"
           }
          },
          "shapedefaults": {
           "line": {
            "color": "#2a3f5f"
           }
          },
          "ternary": {
           "aaxis": {
            "gridcolor": "white",
            "linecolor": "white",
            "ticks": ""
           },
           "baxis": {
            "gridcolor": "white",
            "linecolor": "white",
            "ticks": ""
           },
           "bgcolor": "#E5ECF6",
           "caxis": {
            "gridcolor": "white",
            "linecolor": "white",
            "ticks": ""
           }
          },
          "title": {
           "x": 0.05
          },
          "xaxis": {
           "automargin": true,
           "gridcolor": "white",
           "linecolor": "white",
           "ticks": "",
           "title": {
            "standoff": 15
           },
           "zerolinecolor": "white",
           "zerolinewidth": 2
          },
          "yaxis": {
           "automargin": true,
           "gridcolor": "white",
           "linecolor": "white",
           "ticks": "",
           "title": {
            "standoff": 15
           },
           "zerolinecolor": "white",
           "zerolinewidth": 2
          }
         }
        },
        "title": {
         "text": "WWTP Clusters: Population vs Capacity"
        }
       }
      }
     },
     "metadata": {},
     "output_type": "display_data"
    }
   ],
   "source": [
    "import plotly.express as px\n",
    "import pandas as pd\n",
    "\n",
    "# Replace with your actual DataFrame\n",
    "df_cluster_map = wwtp_enriched.copy()\n",
    "\n",
    "# Adjust marker size for visibility\n",
    "df_cluster_map[\"AdjustedPopulation\"] = df_cluster_map[\"Population\"].clip(lower=100000)\n",
    "\n",
    "# Plotly scatter mapbox\n",
    "fig = px.scatter_mapbox(\n",
    "    df_cluster_map,\n",
    "    lat='Lat',\n",
    "    lon='Lon',\n",
    "    color='cluster',\n",
    "    size='AdjustedPopulation',\n",
    "    hover_name='Subregion',  # or WWTP name\n",
    "    text='Subregion',        # labels on the map\n",
    "    hover_data={'Capacity': True, 'Population': True, 'Lat': False, 'Lon': False},\n",
    "    color_continuous_scale=px.colors.sequential.Viridis,\n",
    "    size_max=40,\n",
    "    zoom=6,\n",
    "    title=\"WWTP Clusters: Population vs Capacity\"\n",
    ")\n",
    "\n",
    "# Improve visibility and use dark map style\n",
    "fig.update_traces(\n",
    "    textposition=\"top right\",\n",
    "    marker=dict(opacity=0.85),\n",
    "    selector=dict(mode='markers')\n",
    ")\n",
    "fig.update_layout(\n",
    "    mapbox_style=\"carto-darkmatter\",\n",
    "    margin={\"r\":0,\"t\":40,\"l\":0,\"b\":0},\n",
    "    height=600\n",
    ")\n",
    "\n",
    "fig.show()\n"
   ]
  },
  {
   "cell_type": "code",
   "execution_count": null,
   "id": "decf3d7b",
   "metadata": {},
   "outputs": [
    {
     "data": {
      "image/png": "[encoded data removed]",
      "text/plain": [
       "<Figure size 720x432 with 1 Axes>"
      ]
     },
     "metadata": {
      "needs_background": "light"
     },
     "output_type": "display_data"
    },
    {
     "data": {
      "image/png": "[encoded data removed]",
      "text/plain": [
       "<Figure size 576x360 with 1 Axes>"
      ]
     },
     "metadata": {
      "needs_background": "light"
     },
     "output_type": "display_data"
    }
   ],
   "source": [
    "import matplotlib.pyplot as plt\n",
    "import pandas as pd\n",
    "\n",
    "\n",
    "df = wwtp_enriched\n",
    "df['capacity_per_1000'] = df['Capacity'] / (df['Population'] / 1000)\n",
    "\n",
    "# Plot 1: Total Population vs Capacity per Cluster\n",
    "fig, ax1 = plt.subplots(figsize=(10, 6))\n",
    "bar_width = 0.35\n",
    "x = df['cluster']\n",
    "\n",
    "ax1.bar(x - bar_width/2, df['Population'], width=bar_width, label='Population', color='skyblue')\n",
    "ax1.bar(x + bar_width/2, df['Capacity'], width=bar_width, label='Capacity (m³/day)', color='lightgreen')\n",
    "ax1.set_xlabel('Cluster')\n",
    "ax1.set_ylabel('Total Values')\n",
    "ax1.set_title('Total Population and Capacity per Cluster')\n",
    "ax1.legend()\n",
    "ax1.set_xticks(x)\n",
    "ax1.set_xticklabels(df['cluster'])\n",
    "\n",
    "# Plot 2: Capacity per 1000 People\n",
    "fig, ax2 = plt.subplots(figsize=(8, 5))\n",
    "ax2.bar(df['cluster'], df['capacity_per_1000'], color='salmon')\n",
    "ax2.set_xlabel('Cluster')\n",
    "ax2.set_ylabel('Capacity per 1000 People (m³/day)')\n",
    "ax2.set_title('Treatment Capacity per 1000 People by Cluster')\n",
    "ax2.set_xticks(df['cluster'])\n",
    "\n",
    "plt.tight_layout()\n",
    "plt.show()\n"
   ]
  },
  {
   "cell_type": "code",
   "execution_count": 32,
   "id": "60e04875",
   "metadata": {},
   "outputs": [
    {
     "data": {
      "text/html": [
       "<div>\n",
       "<style scoped>\n",
       "    .dataframe tbody tr th:only-of-type {\n",
       "        vertical-align: middle;\n",
       "    }\n",
       "\n",
       "    .dataframe tbody tr th {\n",
       "        vertical-align: top;\n",
       "    }\n",
       "\n",
       "    .dataframe thead th {\n",
       "        text-align: right;\n",
       "    }\n",
       "</style>\n",
       "<table border=\"1\" class=\"dataframe\">\n",
       "  <thead>\n",
       "    <tr style=\"text-align: right;\">\n",
       "      <th></th>\n",
       "      <th>count</th>\n",
       "      <th>mean</th>\n",
       "      <th>median</th>\n",
       "      <th>min</th>\n",
       "      <th>max</th>\n",
       "      <th>std</th>\n",
       "    </tr>\n",
       "    <tr>\n",
       "      <th>treatment_type</th>\n",
       "      <th></th>\n",
       "      <th></th>\n",
       "      <th></th>\n",
       "      <th></th>\n",
       "      <th></th>\n",
       "      <th></th>\n",
       "    </tr>\n",
       "  </thead>\n",
       "  <tbody>\n",
       "    <tr>\n",
       "      <th>not treated</th>\n",
       "      <td>59</td>\n",
       "      <td>6712.618773</td>\n",
       "      <td>1.0</td>\n",
       "      <td>0.7923</td>\n",
       "      <td>33000.0</td>\n",
       "      <td>13396.798541</td>\n",
       "    </tr>\n",
       "    <tr>\n",
       "      <th>tertiary</th>\n",
       "      <td>36</td>\n",
       "      <td>4263.666667</td>\n",
       "      <td>790.0</td>\n",
       "      <td>1.0000</td>\n",
       "      <td>12000.0</td>\n",
       "      <td>5557.621506</td>\n",
       "    </tr>\n",
       "    <tr>\n",
       "      <th>secondary</th>\n",
       "      <td>73</td>\n",
       "      <td>1215.397260</td>\n",
       "      <td>550.0</td>\n",
       "      <td>1.0000</td>\n",
       "      <td>5400.0</td>\n",
       "      <td>1897.000986</td>\n",
       "    </tr>\n",
       "    <tr>\n",
       "      <th>pond</th>\n",
       "      <td>56</td>\n",
       "      <td>279.357143</td>\n",
       "      <td>1.0</td>\n",
       "      <td>1.0000</td>\n",
       "      <td>1300.0</td>\n",
       "      <td>537.837097</td>\n",
       "    </tr>\n",
       "    <tr>\n",
       "      <th>primary</th>\n",
       "      <td>73</td>\n",
       "      <td>139.000000</td>\n",
       "      <td>1.0</td>\n",
       "      <td>1.0000</td>\n",
       "      <td>800.0</td>\n",
       "      <td>295.729888</td>\n",
       "    </tr>\n",
       "  </tbody>\n",
       "</table>\n",
       "</div>"
      ],
      "text/plain": [
       "                count         mean  median     min      max           std\n",
       "treatment_type                                                           \n",
       "not treated        59  6712.618773     1.0  0.7923  33000.0  13396.798541\n",
       "tertiary           36  4263.666667   790.0  1.0000  12000.0   5557.621506\n",
       "secondary          73  1215.397260   550.0  1.0000   5400.0   1897.000986\n",
       "pond               56   279.357143     1.0  1.0000   1300.0    537.837097\n",
       "primary            73   139.000000     1.0  1.0000    800.0    295.729888"
      ]
     },
     "execution_count": 32,
     "metadata": {},
     "output_type": "execute_result"
    }
   ],
   "source": [
    "# Summary statistics by treatment type\n",
    "df.groupby('treatment_type')['Capacity'].agg(['count', 'mean', 'median', 'min', 'max', 'std']).sort_values(by='mean', ascending=False)\n"
   ]
  },
  {
   "cell_type": "code",
   "execution_count": 33,
   "id": "cedb06e5",
   "metadata": {},
   "outputs": [
    {
     "data": {
      "image/png": "[encoded data removed]",
      "text/plain": [
       "<Figure size 720x432 with 1 Axes>"
      ]
     },
     "metadata": {
      "needs_background": "light"
     },
     "output_type": "display_data"
    }
   ],
   "source": [
    "import matplotlib.pyplot as plt\n",
    "import seaborn as sns\n",
    "\n",
    "plt.figure(figsize=(10, 6))\n",
    "sns.boxplot(data=df, x='treatment_type', y='Capacity')\n",
    "plt.xticks(rotation=45)\n",
    "plt.title('Capacity Distribution by Treatment Type')\n",
    "plt.ylabel('Capacity (m³/day)')\n",
    "plt.xlabel('Treatment Type')\n",
    "plt.tight_layout()\n",
    "plt.show()\n"
   ]
  },
  {
   "cell_type": "markdown",
   "id": "0f1266ae",
   "metadata": {},
   "source": [
    "Tertiary treatment systems often show higher mean and max capacities, suggesting they are deployed in urban/high-demand settings.\n",
    "\n",
    "Pond systems may be the most common and have lower average capacities, likely serving rural or decentralized areas.\n",
    "\n",
    "\"Not treated\" entries usually show very high or very low values, potentially reflecting non-functional or industrial setups.\n",
    "\n",
    "A high standard deviation in a treatment type (e.g., \"tertiary\") may suggest a wide range of plant sizes and flexibility."
   ]
  },
  {
   "cell_type": "markdown",
   "id": "87746dcf",
   "metadata": {},
   "source": []
  }
 ],
 "metadata": {
  "kernelspec": {
   "display_name": "learn-env",
   "language": "python",
   "name": "python3"
  },
  "language_info": {
   "codemirror_mode": {
    "name": "ipython",
    "version": 3
   },
   "file_extension": ".py",
   "mimetype": "text/x-python",
   "name": "python",
   "nbconvert_exporter": "python",
   "pygments_lexer": "ipython3",
   "version": "3.8.5"
  }
 },
 "nbformat": 4,
 "nbformat_minor": 5
}
